{
 "cells": [
  {
   "cell_type": "code",
   "execution_count": 1,
   "id": "f383ab20",
   "metadata": {
    "ExecuteTime": {
     "end_time": "2024-03-26T18:16:02.751584Z",
     "start_time": "2024-03-26T18:16:02.714567800Z"
    },
    "execution": {
     "iopub.execute_input": "2024-10-30T16:07:59.624218Z",
     "iopub.status.busy": "2024-10-30T16:07:59.624218Z",
     "iopub.status.idle": "2024-10-30T16:08:02.446806Z",
     "shell.execute_reply": "2024-10-30T16:08:02.446806Z",
     "shell.execute_reply.started": "2024-10-30T16:07:59.624218Z"
    }
   },
   "outputs": [],
   "source": [
    "# LabOne Q:\n",
    "from laboneq.simple import *\n",
    "\n",
    "# plotting and fitting functionality\n",
    "from laboneq.analysis.fitting import (\n",
    "    lorentzian,\n",
    "    oscillatory,\n",
    "    oscillatory_decay,\n",
    "    exponential_decay,\n",
    ")\n",
    "from laboneq.contrib.example_helpers.plotting.plot_helpers import plot_simulation\n",
    "\n",
    "# descriptor imports\n",
    "from laboneq.contrib.example_helpers.descriptors.shfsg_shfqa_pqsc import (\n",
    "    descriptor_shfsg_shfqa_pqsc,\n",
    ")\n",
    "\n",
    "# for saving results and pulse sheets\n",
    "from pathlib import Path\n",
    "import datetime\n",
    "from datetime import date\n",
    "import pandas as pd\n",
    "import time \n",
    "import sys\n",
    "import os\n",
    "\n",
    "import matplotlib.pyplot as plt\n",
    "import numpy as np\n",
    "import sys\n",
    "import logging\n",
    "# import helper\n",
    "import laboneq.pulse_sheet_viewer.pulse_sheet_viewer as psv"
   ]
  },
  {
   "cell_type": "code",
   "execution_count": 2,
   "id": "831420bc-e995-471a-a8a8-da4912b1d780",
   "metadata": {
    "execution": {
     "iopub.execute_input": "2024-10-30T16:08:02.447812Z",
     "iopub.status.busy": "2024-10-30T16:08:02.447812Z",
     "iopub.status.idle": "2024-10-30T16:08:02.456045Z",
     "shell.execute_reply": "2024-10-30T16:08:02.455825Z",
     "shell.execute_reply.started": "2024-10-30T16:08:02.447812Z"
    }
   },
   "outputs": [],
   "source": [
    "# define sweep parameter\n",
    "def create_readout_freq_sweep(qubit, start_freq, stop_freq, num_points):\n",
    "    return LinearSweepParameter(\n",
    "        uid=f\"res_freq_{qubit.uid}\",\n",
    "        start=start_freq + qubit.parameters.readout_resonator_frequency - qubit.parameters.readout_lo_frequency,\n",
    "        stop=stop_freq + qubit.parameters.readout_resonator_frequency - qubit.parameters.readout_lo_frequency,\n",
    "        count=num_points,\n",
    "    )\n",
    "\n",
    "# a new *notably different* res_spec_calib function\n",
    "def res_spec_calib(frequency_sweep, amplitude_sweep=None):\n",
    "   exp_calibration = Calibration()\n",
    "   # sets the oscillator of the experimental measure signal\n",
    "   my_osc = Oscillator(\n",
    "           \"readout_osc\",\n",
    "           frequency=frequency_sweep,\n",
    "           modulation_type=ModulationType.HARDWARE,\n",
    "   )\n",
    "   exp_calibration[\"measure\"] = SignalCalibration(     # for spectroscopy, use the hardware oscillator of the QA, and set the sweep parameter as frequency\n",
    "       oscillator=my_osc,\n",
    "       amplitude=amplitude_sweep,\n",
    "   )\n",
    "   exp_calibration[\"acquire\"] = SignalCalibration(\n",
    "       oscillator=my_osc,\n",
    "   )\n",
    "   return exp_calibration\n",
    "\n",
    "# signal maps for the qubit readout only\n",
    "def res_spec_map(qubit):\n",
    "    signal_map = {\n",
    "        \"measure\": device_setup.logical_signal_groups[qubit.uid].logical_signals[\n",
    "            \"measure_line\"\n",
    "        ],\n",
    "        \"acquire\": device_setup.logical_signal_groups[qubit.uid].logical_signals[\n",
    "            \"acquire_line\"\n",
    "        ],\n",
    "    }\n",
    "    return signal_map\n",
    "\n",
    "# create gaussian square pulse for readout\n",
    "def create_readout_pulse(\n",
    "    qubit, sigma=0.2\n",
    "):\n",
    "    readout_pulse = pulse_library.gaussian_square(\n",
    "        uid=f\"readout_pulse_{qubit.uid}\",\n",
    "        length=qubit.parameters.user_defined['readout_len'],\n",
    "        amplitude=qubit.parameters.user_defined['readout_amp'],\n",
    "        width=qubit.parameters.user_defined['readout_len'] * 0.9,\n",
    "        sigma=sigma,\n",
    "    )\n",
    "    return readout_pulse\n",
    "\n",
    "# qubit spectroscopy freq sweep\n",
    "def create_drive_freq_sweep(qubit, start_freq, stop_freq, num_points):\n",
    "    return LinearSweepParameter(\n",
    "        uid=f\"drive_freq_{qubit.uid}\",\n",
    "        start=start_freq + qubit.parameters.resonance_frequency_ge - qubit.parameters.drive_lo_frequency,\n",
    "        stop=stop_freq + qubit.parameters.resonance_frequency_ge - qubit.parameters.drive_lo_frequency,\n",
    "        count=num_points,\n",
    "    )\n",
    "\n",
    "# define square pulse for qubit spec\n",
    "def create_drive_spec_pulse(qubit, amp = 0.95):\n",
    "    pulse = pulse_library.const(\n",
    "        uid=f\"drive_spec_pulse_{qubit.uid}\",\n",
    "        length=qubit.parameters.user_defined[\"pulse_length\"],\n",
    "        amplitude=amp, #max power to start\n",
    "    )\n",
    "    return pulse\n",
    "\n",
    "# signal map for qubit drive and readout\n",
    "def signal_map_default(qubit):\n",
    "    signal_map = {\n",
    "        \"drive\": device_setup.logical_signal_groups[f\"{qubit.uid}\"].logical_signals[\n",
    "            \"drive_line\"\n",
    "        ],\n",
    "        \"measure\": device_setup.logical_signal_groups[f\"{qubit.uid}\"].logical_signals[\n",
    "            \"measure_line\"\n",
    "        ],\n",
    "        \"acquire\": device_setup.logical_signal_groups[f\"{qubit.uid}\"].logical_signals[\n",
    "            \"acquire_line\"\n",
    "        ],\n",
    "    }\n",
    "    return signal_map"
   ]
  },
  {
   "cell_type": "code",
   "execution_count": 3,
   "id": "1a6e25ca-aa0f-4429-9aab-edc543fe238f",
   "metadata": {
    "execution": {
     "iopub.execute_input": "2024-10-30T16:08:02.456548Z",
     "iopub.status.busy": "2024-10-30T16:08:02.456548Z",
     "iopub.status.idle": "2024-10-30T16:08:02.467844Z",
     "shell.execute_reply": "2024-10-30T16:08:02.467844Z",
     "shell.execute_reply.started": "2024-10-30T16:08:02.456548Z"
    }
   },
   "outputs": [],
   "source": [
    "descriptor_shfqc = \"\"\"\n",
    "instruments:\n",
    "  SHFQC:\n",
    "  - address: DEV12195\n",
    "    uid: device_shfqc\n",
    "    interface: 1gbe\n",
    "    options: SHFQC/PLUS/QC6CH\n",
    "    qachannels:\n",
    "        0:\n",
    "            output:\n",
    "                rflfinterlock: False\n",
    "\n",
    "connections:\n",
    "  device_shfqc:\n",
    "    - iq_signal: q0/drive_line\n",
    "      ports: SGCHANNELS/0/OUTPUT\n",
    "\n",
    "    - iq_signal: q0/measure_line\n",
    "      ports: [QACHANNELS/0/OUTPUT]\n",
    "    - acquire_signal: q0/acquire_line\n",
    "      ports: [QACHANNELS/0/INPUT]\n",
    "\n",
    "    - iq_signal: q1/drive_line\n",
    "      ports: SGCHANNELS/0/OUTPUT\n",
    "\n",
    "    - iq_signal: q1/measure_line\n",
    "      ports: [QACHANNELS/0/OUTPUT]\n",
    "    - acquire_signal: q1/acquire_line\n",
    "      ports: [QACHANNELS/0/INPUT]\n",
    "      \n",
    "\"\"\"\n",
    "\n",
    "# Define and Load our Device Setup\n",
    "device_setup = DeviceSetup.from_descriptor(\n",
    "    yaml_text=descriptor_shfqc,\n",
    "    server_host=\"localhost\",  # ip address of the LabOne dataserver used to communicate with the instruments\n",
    "    server_port=\"8004\",  # port number of the dataserver - default is 8004\n",
    "    setup_name=\"my_setup\",  # setup name\n",
    ")\n",
    "\n",
    "# define shortcut to logical signals for convenience\n",
    "lsg = {\n",
    "    qubit_name: device_setup.logical_signal_groups[qubit_name].logical_signals\n",
    "    for qubit_name in device_setup.logical_signal_groups.keys()\n",
    "}"
   ]
  },
  {
   "cell_type": "code",
   "execution_count": 4,
   "id": "2064acba-ce1f-4cac-8a33-27318775a610",
   "metadata": {
    "execution": {
     "iopub.execute_input": "2024-10-30T16:08:02.712736Z",
     "iopub.status.busy": "2024-10-30T16:08:02.712736Z",
     "iopub.status.idle": "2024-10-30T16:08:02.718374Z",
     "shell.execute_reply": "2024-10-30T16:08:02.718374Z",
     "shell.execute_reply.started": "2024-10-30T16:08:02.712736Z"
    }
   },
   "outputs": [],
   "source": [
    "'''This should be a Transmon object even though a more general Qubit object is present. This is because\n",
    "a more general Qubit object has LF/RF input/output range coupling automatically turned on and I cannot\n",
    "seem to be able to turn it off'''\n",
    "\n",
    "#GKP1\n",
    "q0 = Transmon.from_logical_signal_group(\n",
    "    uid=\"q0\",\n",
    "    lsg=device_setup.logical_signal_groups[\"q0\"],\n",
    "    parameters=TransmonParameters(\n",
    "        resonance_frequency_ge=3e9,\n",
    "        readout_resonator_frequency=7111210042,\n",
    "        readout_lo_frequency=7.1e9,\n",
    "        readout_integration_delay=95e-9,\n",
    "        readout_range_out=-5,\n",
    "        readout_range_in=5,\n",
    "        drive_lo_frequency=3e9,\n",
    "        drive_range=0,\n",
    "        user_defined={\n",
    "            \"amplitude_pi\": 1,\n",
    "            \"pulse_length\": 50e-9,\n",
    "            \"readout_len\": 5e-6,\n",
    "            \"readout_amp\": 0.9,\n",
    "            \"reset_length\": 5e-6,\n",
    "        }\n",
    "    )\n",
    ")\n",
    "\n",
    "q1 = Transmon.from_logical_signal_group(\n",
    "    uid=\"q1\",\n",
    "    lsg=device_setup.logical_signal_groups[\"q1\"],\n",
    "    parameters=TransmonParameters(\n",
    "        resonance_frequency_ge=4.919995e9,\n",
    "        readout_resonator_frequency=6.4207e9,\n",
    "        readout_lo_frequency=6.4e9,\n",
    "        readout_integration_delay=95e-9,\n",
    "        readout_range_out=-5, #should be 0\n",
    "        readout_range_in=-10,\n",
    "        drive_lo_frequency=4.8e9,\n",
    "        drive_range=-10,\n",
    "        user_defined={\n",
    "            \"amplitude_pi\": 0.425,\n",
    "            \"pulse_length\": 100e-9,\n",
    "            \"readout_len\": 2e-6,\n",
    "            \"readout_amp\": 0.6,\n",
    "            \"reset_length\": 5e-6,\n",
    "        }\n",
    "    )\n",
    ")"
   ]
  },
  {
   "cell_type": "code",
   "execution_count": 5,
   "id": "8eefd0f0-4e97-4201-b06e-78e377d93cf7",
   "metadata": {
    "editable": true,
    "execution": {
     "iopub.execute_input": "2024-10-30T16:08:02.718374Z",
     "iopub.status.busy": "2024-10-30T16:08:02.718374Z",
     "iopub.status.idle": "2024-10-30T16:08:02.723102Z",
     "shell.execute_reply": "2024-10-30T16:08:02.723102Z",
     "shell.execute_reply.started": "2024-10-30T16:08:02.718374Z"
    },
    "slideshow": {
     "slide_type": ""
    },
    "tags": []
   },
   "outputs": [],
   "source": [
    "#Finish calibrating SHFQC with qubit parameters\n",
    "qubits = [q0, q1]\n",
    "for qubit in qubits:\n",
    "    device_setup.set_calibration(qubit.calibration())\n",
    "\n",
    "#Choose which qubit will be measured\n",
    "measure_q = q1\n",
    "# device_setup.get_calibration()"
   ]
  },
  {
   "cell_type": "code",
   "execution_count": 6,
   "id": "b7612844-ee6b-42f7-9a68-3feef6d6bb44",
   "metadata": {
    "execution": {
     "iopub.execute_input": "2024-10-30T16:08:02.723102Z",
     "iopub.status.busy": "2024-10-30T16:08:02.723102Z",
     "iopub.status.idle": "2024-10-30T16:08:02.729145Z",
     "shell.execute_reply": "2024-10-30T16:08:02.729145Z",
     "shell.execute_reply.started": "2024-10-30T16:08:02.723102Z"
    }
   },
   "outputs": [],
   "source": [
    "# function that returns a qubit spectroscopy experiment- accepts frequency sweep range as parameter\n",
    "def qubit_spectroscopy(freq_sweep, drive_pulse, readout_pulse, reset_delay):\n",
    "    # Create qubit spectroscopy Experiment - uses qubit drive, readout drive and data acquisition lines\n",
    "    exp_qspec = Experiment(\n",
    "        uid=\"Qubit Spectroscopy\",\n",
    "            signals=[\n",
    "                ExperimentSignal(uid=\"measure\", map_to=lsg[qubit.uid]['measure_line']),\n",
    "                ExperimentSignal(uid=\"acquire\", map_to=lsg[qubit.uid]['acquire_line']),\n",
    "                ExperimentSignal(uid=\"drive\", map_to=lsg[qubit.uid]['drive_line'])\n",
    "            ]\n",
    "    )\n",
    "            \n",
    "    # inner loop - real-time averaging - QA in integration mode\n",
    "    with exp_qspec.acquire_loop_rt(\n",
    "        uid=\"freq_shots\",\n",
    "        count=2**num_averages,\n",
    "        acquisition_type=AcquisitionType.INTEGRATION,\n",
    "    ):\n",
    "        \n",
    "        with exp_qspec.sweep(uid=\"qfreq_sweep\", parameter=freq_sweep):\n",
    "            # qubit drive\n",
    "            with exp_qspec.section(uid=\"qubit_excitation\"):\n",
    "                # exp_qspec.play(signal=\"drive\", pulse=drive_pulse)\n",
    "                exp_qspec.play(signal=\"drive\", pulse=drive_pulse, marker = {\"marker1\": {\"enable\": True}})\n",
    "            with exp_qspec.section(\n",
    "                uid=\"readout_section\", play_after=\"qubit_excitation\"\n",
    "            ):\n",
    "                # play readout pulse on measure line\n",
    "                exp_qspec.play(signal=\"measure\", pulse=readout_pulse)\n",
    "                # trigger signal data acquisition\n",
    "                exp_qspec.acquire(\n",
    "                    signal=\"acquire\",\n",
    "                    handle=\"qb_spec\",\n",
    "                    kernel=readout_pulse,\n",
    "                )\n",
    "            with exp_qspec.section(uid=\"delay\"):\n",
    "                # relax time after readout - for qubit relaxation to groundstate and signal processing\n",
    "                exp_qspec.delay(signal=\"measure\", time=reset_delay)\n",
    "\n",
    "    return exp_qspec"
   ]
  },
  {
   "cell_type": "code",
   "execution_count": 7,
   "id": "76676159-3bd5-4751-aaa3-f8e43d9eb961",
   "metadata": {
    "execution": {
     "iopub.execute_input": "2024-10-30T16:08:02.729145Z",
     "iopub.status.busy": "2024-10-30T16:08:02.729145Z",
     "iopub.status.idle": "2024-10-30T16:08:02.733681Z",
     "shell.execute_reply": "2024-10-30T16:08:02.733681Z",
     "shell.execute_reply.started": "2024-10-30T16:08:02.729145Z"
    }
   },
   "outputs": [],
   "source": [
    "LF_path = False\n",
    "start_freq = -200e6\n",
    "stop_freq = 200e6\n",
    "qspec_num = 101\n",
    "num_averages = 10\n",
    "freq_sweep_q = create_drive_freq_sweep(measure_q, start_freq, stop_freq, qspec_num)\n",
    "\n",
    "# experiment signal calibration for qubit, specifically overwriting the frequency to the sweep parameter\n",
    "exp_calibration_q = Calibration()\n",
    "\n",
    "if LF_path == True:\n",
    "    exp_calibration_q[\"drive\"] = SignalCalibration(\n",
    "        oscillator=Oscillator(\n",
    "            frequency=freq_sweep_q,\n",
    "            modulation_type=ModulationType.HARDWARE,\n",
    "        ),\n",
    "        port_mode = PortMode.LF\n",
    "    )\n",
    "else:\n",
    "    exp_calibration_q[\"drive\"] = SignalCalibration(\n",
    "        oscillator=Oscillator(\n",
    "            frequency=freq_sweep_q,\n",
    "            modulation_type=ModulationType.HARDWARE,\n",
    "        ),\n",
    "    )\n"
   ]
  },
  {
   "cell_type": "code",
   "execution_count": 8,
   "id": "bd4e493c-7be4-4e38-9c7b-35c9bd827e7f",
   "metadata": {
    "execution": {
     "iopub.execute_input": "2024-10-30T16:08:02.733681Z",
     "iopub.status.busy": "2024-10-30T16:08:02.733681Z",
     "iopub.status.idle": "2024-10-30T16:08:03.068993Z",
     "shell.execute_reply": "2024-10-30T16:08:03.068993Z",
     "shell.execute_reply.started": "2024-10-30T16:08:02.733681Z"
    }
   },
   "outputs": [
    {
     "data": {
      "text/plain": [
       "<laboneq.dsl.session.ConnectionState at 0x23fdeda7650>"
      ]
     },
     "execution_count": 8,
     "metadata": {},
     "output_type": "execute_result"
    }
   ],
   "source": [
    "# perform experiments in emulation mode or on hardware - if True, also generate dummy data for fitting\n",
    "session = Session(device_setup=device_setup, log_level=50) #0 through 50 in groups of 10 gives NOTSET through CRITICAL\n",
    "session.connect()"
   ]
  },
  {
   "cell_type": "code",
   "execution_count": 12,
   "id": "562f192e-8410-40b9-a4d3-706c5ebb6f46",
   "metadata": {
    "execution": {
     "iopub.execute_input": "2024-10-30T16:09:49.319508Z",
     "iopub.status.busy": "2024-10-30T16:09:49.319508Z",
     "iopub.status.idle": "2024-10-30T16:09:49.326213Z",
     "shell.execute_reply": "2024-10-30T16:09:49.326213Z",
     "shell.execute_reply.started": "2024-10-30T16:09:49.319508Z"
    }
   },
   "outputs": [],
   "source": [
    "# define experiment with frequency sweep for qubit 0\n",
    "drive_pulse = create_drive_spec_pulse(measure_q, amp=0.95)\n",
    "# drive_pulse = create_rabi_drive_pulse(measure_q)\n",
    "\n",
    "readout_pulse = create_readout_pulse(measure_q)\n",
    "\n",
    "#update default calibration to qubit settings\n",
    "# device_setup.set_calibration(\n",
    "#     measure_q.calibration()\n",
    "# )\n",
    "\n",
    "exp_qspec = qubit_spectroscopy(freq_sweep_q, drive_pulse, readout_pulse, reset_delay = measure_q.parameters.user_defined['reset_length'])\n",
    "\n",
    "# apply calibration and signal map for qubit for this experiment\n",
    "# exp_qspec.set_calibration(exp_calibration_q)\n",
    "# exp_qspec.set_signal_map(signal_map_default(measure_q))\n",
    "\n",
    "exp_calibration_q[\"drive\"] = SignalCalibration(\n",
    "    oscillator=Oscillator(\n",
    "        frequency=freq_sweep_q,\n",
    "        modulation_type=ModulationType.HARDWARE,\n",
    "    ),\n",
    ")\n",
    "exp_qspec.set_calibration(exp_calibration_q)"
   ]
  },
  {
   "cell_type": "code",
   "execution_count": 13,
   "id": "4ace7670-34e3-48ed-b1bb-669367ed9f00",
   "metadata": {
    "execution": {
     "iopub.execute_input": "2024-10-30T16:09:50.026902Z",
     "iopub.status.busy": "2024-10-30T16:09:50.026902Z",
     "iopub.status.idle": "2024-10-30T16:09:52.304895Z",
     "shell.execute_reply": "2024-10-30T16:09:52.304895Z",
     "shell.execute_reply.started": "2024-10-30T16:09:50.026902Z"
    }
   },
   "outputs": [],
   "source": [
    "# compile the experiment on the open instrument session\n",
    "compiled_qspec = session.compile(exp_qspec)\n",
    "qspec_results = session.run()"
   ]
  },
  {
   "cell_type": "code",
   "execution_count": 14,
   "id": "9d4fb1a1-3f29-4d50-89b2-21965546e769",
   "metadata": {
    "execution": {
     "iopub.execute_input": "2024-10-30T16:09:52.305896Z",
     "iopub.status.busy": "2024-10-30T16:09:52.305896Z",
     "iopub.status.idle": "2024-10-30T16:09:52.403327Z",
     "shell.execute_reply": "2024-10-30T16:09:52.403327Z",
     "shell.execute_reply.started": "2024-10-30T16:09:52.305896Z"
    }
   },
   "outputs": [
    {
     "data": {
      "image/png": "[encoded data removed]",
      "text/plain": [
       "<Figure size 640x480 with 1 Axes>"
      ]
     },
     "metadata": {},
     "output_type": "display_data"
    }
   ],
   "source": [
    "# get measurement data returned by the instruments\n",
    "qspec_res = qspec_results.get_data(\"qb_spec\")\n",
    "qspec_freq = qspec_results.get_axis(\"qb_spec\")[0] + measure_q.parameters.drive_lo_frequency\n",
    "\n",
    "# plot measurement data\n",
    "fig = plt.figure()\n",
    "plt.plot(qspec_freq / 1e9, np.abs(qspec_res), \".k\")\n",
    "plt.ylabel(\"A (a.u.)\")\n",
    "plt.xlabel(\"Frequency (GHz)\")\n",
    "plt.grid()"
   ]
  },
  {
   "cell_type": "code",
   "execution_count": null,
   "id": "668a800f-6e45-4b09-9056-a0b4af56a233",
   "metadata": {},
   "outputs": [],
   "source": []
  },
  {
   "cell_type": "code",
   "execution_count": null,
   "id": "8792b949-f710-46c1-b260-59aceb7c5040",
   "metadata": {},
   "outputs": [],
   "source": []
  }
 ],
 "metadata": {
  "celltoolbar": "无",
  "hide_input": false,
  "kernelspec": {
   "display_name": "Python 3 (ipykernel)",
   "language": "python",
   "name": "python3"
  },
  "language_info": {
   "codemirror_mode": {
    "name": "ipython",
    "version": 3
   },
   "file_extension": ".py",
   "mimetype": "text/x-python",
   "name": "python",
   "nbconvert_exporter": "python",
   "pygments_lexer": "ipython3",
   "version": "3.11.9"
  },
  "toc": {
   "base_numbering": 1,
   "nav_menu": {},
   "number_sections": true,
   "sideBar": true,
   "skip_h1_title": false,
   "title_cell": "Table of Contents",
   "title_sidebar": "Contents",
   "toc_cell": false,
   "toc_position": {
    "height": "calc(100% - 180px)",
    "left": "10px",
    "top": "150px",
    "width": "409.6px"
   },
   "toc_section_display": true,
   "toc_window_display": true
  },
  "varInspector": {
   "cols": {
    "lenName": 16,
    "lenType": 16,
    "lenVar": 40
   },
   "kernels_config": {
    "python": {
     "delete_cmd_postfix": "",
     "delete_cmd_prefix": "del ",
     "library": "var_list.py",
     "varRefreshCmd": "print(var_dic_list())"
    },
    "r": {
     "delete_cmd_postfix": ") ",
     "delete_cmd_prefix": "rm(",
     "library": "var_list.r",
     "varRefreshCmd": "cat(var_dic_list()) "
    }
   },
   "types_to_exclude": [
    "module",
    "function",
    "builtin_function_or_method",
    "instance",
    "_Feature"
   ],
   "window_display": false
  }
 },
 "nbformat": 4,
 "nbformat_minor": 5
}
