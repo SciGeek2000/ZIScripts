import pyvisa
import numpy as np
import pandas as pd
from matplotlib import pyplot as plt


rm = pyvisa.ResourceManager()
oscilloscope = rm.open_resource('TCPIP::192.168.4.178::INSTR')

# Set up communication with the oscilloscope
rm = pyvisa.ResourceManager()

# Set the timeout to a higher value to ensure data retrieval isn't cut off
oscilloscope.timeout = 10000  # Timeout in milliseconds (10 seconds)

# Clear any existing errors
oscilloscope.write('*CLS')  # Clear the status register

# Select Channel 1 and set the data encoding to ASCII
oscilloscope.write('DATA:SOURCE CH1')  # Select Channel 1
oscilloscope.write(':WAV:SOUR CHAN1')   # Set encoding to ASCII
oscilloscope.write(':WAV:FORM WORD')
oscilloscope.query(':WAV:PRE?')
oscilloscope.query('TIM:POS?')

sing = oscilloscope.write(':SING')


# oscilloscope.write('*CLS')
oscilloscope.write('DATA:ENC RIBinary')  # Use Binary encoding (Raw IEEE Binary format)
oscilloscope.write('DATA:WIDTH 2')        # 2 bytes per sample (16-bit data)
oscilloscope.write('DATA:START 1')
oscilloscope.write('DATA:STOP 1000')

time_per_division = float(oscilloscope.query('TIMEBASE:SCALe?'))  # Get time per division
waveform_data = oscilloscope.query_binary_values(':WAV:DATA?', datatype='H', is_big_endian=True)


oscilloscope.write(":CHAN1:SCALe?")
y_axis_division = oscilloscope.read()
waveform_data = np.array(waveform_data) * float(y_axis_division) 


x_axis = np.linspace(0, 10*time_per_division, len(waveform_data))
plt.plot(x_axis, waveform_data-waveform_data[0])
plt.grid()
plt.xlabel('Time (s)')
plt.ylabel('Voltage (V)')





name = 'cosine_100flat_10rampeachside'
pulse = np.array(waveform_data)
df = pd.DataFrame(pulse, index=x_axis)
df.to_csv(f'OscilloscopeData/{name}'+'.csv') 
plt.savefig(f'OscilloscopeData/{name}')



