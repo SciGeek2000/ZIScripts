








from pathlib import Path
import datetime
from datetime import date
import pandas as pd
import time
import sys
import os
import matplotlib.pyplot as plt
import numpy as np
import sys
import logging
import math as m
import statistics as stat

from qcodes.instrument_drivers.yokogawa.GS200 import GS200

import laboneq
from laboneq.simple import *
import laboneq.pulse_sheet_viewer.pulse_sheet_viewer as psv
from laboneq.contrib.example_helpers.plotting.plot_helpers import plot_simulation
from laboneq.contrib.example_helpers.descriptors.shfsg_shfqa_pqsc import (
    descriptor_shfsg_shfqa_pqsc,
)
from laboneq.analysis.fitting import (
    lorentzian,
    oscillatory,
    oscillatory_decay,
    exponential_decay,
)





# Just be careful about the drive lines.
descriptor_shfqc = """
instruments:
  SHFQC:
  - address: DEV12195
    uid: device_shfqc
    interface: 1gbe
    options: SHFQC/PLUS/QC6CH

connections:
  device_shfqc:
    - acquire_signal: T0/acquire_line
      ports: [QACHANNELS/0/INPUT]
    - iq_signal: T0/measure_line
      ports: [QACHANNELS/0/OUTPUT]
    - iq_signal: T0/drive_line
      ports: SGCHANNELS/3/OUTPUT

    - acquire_signal: T1/acquire_line
      ports: [QACHANNELS/0/INPUT]
    - iq_signal: T1/measure_line
      ports: [QACHANNELS/0/OUTPUT]
    - iq_signal: T1/drive_line
      ports: SGCHANNELS/3/OUTPUT

    - acquire_signal: F0/acquire_line
      ports: [QACHANNELS/0/INPUT]
    - iq_signal: F0/measure_line
      ports: [QACHANNELS/0/OUTPUT]
    - iq_signal: F0/drive_line
      ports: SGCHANNELS/3/OUTPUT

    - acquire_signal: F1/acquire_line
      ports: [QACHANNELS/0/INPUT]
    - iq_signal: F1/measure_line
      ports: [QACHANNELS/0/OUTPUT]
    - iq_signal: F1/drive_line
      ports: SGCHANNELS/3/OUTPUT

    - acquire_signal: C2PHI/acquire_line
      ports: [QACHANNELS/0/INPUT]
    - iq_signal: C2PHI/measure_line
      ports: [QACHANNELS/0/OUTPUT]
    - iq_signal: C2PHI/drive_line
      ports: SGCHANNELS/2/OUTPUT

    - acquire_signal: HGKP/acquire_line
      ports: [QACHANNELS/0/INPUT]
    - iq_signal: HGKP/measure_line
      ports: [QACHANNELS/0/OUTPUT]
    - iq_signal: HGKP/drive_line
      ports: SGCHANNELS/5/OUTPUT

    - acquire_signal: SGKP/acquire_line
      ports: [QACHANNELS/0/INPUT]
    - iq_signal: SGKP/measure_line
      ports: [QACHANNELS/0/OUTPUT]
    - iq_signal: SGKP/drive_line
      ports: SGCHANNELS/0/OUTPUT
    - iq_signal: SGKP/flux_drive_line
      ports: SGCHANNELS/1/OUTPUT
"""
#the very last signal (iq_signal for flux_drive_line) may cause issue when compiling.





# Define and Load our Device Setup
device_setup = DeviceSetup.from_descriptor(
    yaml_text=descriptor_shfqc, # the yaml gives the full description of the logical signal layout
    server_host="localhost",  # ip address of the LabOne dataserver used to communicate with the instruments
    server_port="8004",  # port number of the dataserver - default is 8004
    setup_name="my_setup",  # setup name
)

# define shortcut to logical signals for convenience
lsg = {
    qubit_name: device_setup.logical_signal_groups[qubit_name].logical_signals
    for qubit_name in device_setup.logical_signal_groups.keys()
}





T0 = Transmon.from_logical_signal_group(
    uid='T0',
    lsg=device_setup.logical_signal_groups['T0'],
    parameters=TransmonParameters(
        readout_resonator_frequency=6.399e9,
        readout_lo_frequency=6.4e9,
        resonance_frequency_ge=4e9, #UNSET -- NEED TO MEASURE
        drive_lo_frequency=4e9, #UNSET -- NEED TO MEASURE
        readout_integration_delay=95e-9, #REQUIRES FURTHER CALIBRATION
        readout_range_out=0,
        drive_range=10,
        readout_range_in=0, #REQUIRES UNDERSTANDING WHY BELOW 5 ALWAYS CAUSES OVERLOADING!
        user_defined={
            'pulse_length': 50e-9,
            'readout_len': 2.048e-6, #MAY BE ABLE TO EEK THIS A BIT LONGER(?)
            'time_domain_reset_length': 20e-9,
            'cw_reset_length': 5e-9,
            'readout_amp': 1,
            'amplitude_pi': None,
        }
    )
)

T1 = Transmon.from_logical_signal_group(
    uid='T1',
    lsg=device_setup.logical_signal_groups['T1'],
    parameters=TransmonParameters(
        readout_resonator_frequency=6.56285e9,
        readout_lo_frequency=6.4e9,
        resonance_frequency_ge=3.565e9,
        drive_lo_frequency=3.6e9,
        readout_integration_delay=88e-9,
        readout_range_out=-5,
        drive_range=10,
        readout_range_in=10, #REQUIRES UNDERSTANDING WHY BELOW 5 ALWAYS CAUSES OVERLOADING!
        user_defined={
            'pulse_length': 500e-9,
            'readout_len': 2.048e-6, #MAY BE ABLE TO EEK THIS A BIT LONGER(?)
            'time_domain_reset_length': 300e-6,
            'cw_reset_length': 5e-9,
            'readout_amp': 0.5,
            'amplitude_pi': 0.32,
            'amplitude_pi/2': 0.18,
        }
    )
)

F0 = Transmon.from_logical_signal_group(
    uid='F0',
    lsg=device_setup.logical_signal_groups['F0'],
    parameters=TransmonParameters(
        readout_resonator_frequency=6.734e9,
        readout_lo_frequency=6.8e9,
        resonance_frequency_ge=4e9, #UNSET -- NEED TO MEASURE
        drive_lo_frequency=4e9, #UNSET -- NEED TO MEASURE
        readout_integration_delay=95e-9, #REQUIRES FURTHER CALIBRATION
        readout_range_out=-15,
        drive_range=10,
        readout_range_in=-10, #REQUIRES UNDERSTANDING WHY BELOW 5 ALWAYS CAUSES OVERLOADING!
        user_defined={
            'pulse_length': 50e-9,
            'readout_len': 2e-6, #MAY BE ABLE TO EEK THIS A BIT LONGER(?)
            'time_domain_reset_length': 200e-9,
            'cw_reset_length': 5e-9,
            'readout_amp': 0.85,
            'amplitude_pi': None,
            'current_sweetspot': None,
            'current_setpoint': None,
        }
    )
)

F1 = Transmon.from_logical_signal_group(
    uid='F1',
    lsg=device_setup.logical_signal_groups['F1'],
    parameters=TransmonParameters(
        readout_resonator_frequency=6.866e9,
        readout_lo_frequency=6.8e9,
        resonance_frequency_ge=4e9, #UNSET -- NEED TO MEASURE
        drive_lo_frequency=4e9, #UNSET -- NEED TO MEASURE
        readout_integration_delay=95e-9, #REQUIRES FURTHER CALIBRATION
        readout_range_out=0,
        drive_range=10,
        readout_range_in=-10, #REQUIRES UNDERSTANDING WHY BELOW 5 ALWAYS CAUSES OVERLOADING!
        user_defined={
            'pulse_length': 50e-9,
            'readout_len': 2e-6, #MAY BE ABLE TO EEK THIS A BIT LONGER(?)
            'time_domain_reset_length': 40e-9,
            'cw_reset_length': 5e-9,
            'readout_amp': None,
            'amplitude_pi': 0.7,
            'current_sweetspot': None,
            'current_setpoint': None,
        }
    )
)

C2PHI = Transmon.from_logical_signal_group(
    uid='C2PHI',
    lsg=device_setup.logical_signal_groups['C2PHI'],
    parameters=TransmonParameters(
        readout_resonator_frequency=7.1e9,
        readout_lo_frequency=7e9,
        resonance_frequency_ge=4e9, #UNSET -- NEED TO MEASURE
        drive_lo_frequency=4e9, #UNSET -- NEED TO MEASURE
        readout_integration_delay=95e-9, #REQUIRES FURTHER CALIBRATION
        readout_range_out=-10,
        drive_range=0,
        readout_range_in=5, #REQUIRES UNDERSTANDING WHY BELOW 5 ALWAYS CAUSES OVERLOADING!
        user_defined={
            'pulse_length': 50e-9,
            'readout_len': 2e-6, #MAY BE ABLE TO EEK THIS A BIT LONGER(?)
            'time_domain_reset_length': 200e-9,
            'cw_reset_length': 5e-9,
            'readout_amp': None,
            'amplitude_pi': None,
            'current_sweetspot': None,
            'current_setpoint': None,
        }
    )
)

HGKP = Transmon.from_logical_signal_group(
    uid='HGKP',
    lsg=device_setup.logical_signal_groups['HGKP'],
    parameters=TransmonParameters(
        readout_resonator_frequency=7.2796e9,
        readout_lo_frequency=7.2e9,
        resonance_frequency_ge=4e9, #UNSET -- NEED TO MEASURE
        drive_lo_frequency=4e9, #UNSET -- NEED TO MEASURE
        readout_integration_delay=95e-9, #REQUIRES FURTHER CALIBRATION
        readout_range_out=-10,
        drive_range=0,
        readout_range_in=5, #REQUIRES UNDERSTANDING WHY BELOW 5 ALWAYS CAUSES OVERLOADING!
        user_defined={
            'pulse_length': 50e-9,
            'readout_len': 2e-6, #MAY BE ABLE TO EEK THIS A BIT LONGER(?)
            'time_domain_reset_length': 200e-9,
            'cw_reset_length': 5e-9,
            'readout_amp': None,
            'amplitude_pi': None,
            'current_sweetspot': None,
            'current_setpoint': None,
        }
    )
)

SGKP = Transmon.from_logical_signal_group(
    uid='SGKP',
    lsg=device_setup.logical_signal_groups['SGKP'],
    parameters=TransmonParameters(
        readout_resonator_frequency=7.464e9,
        readout_lo_frequency=7.4e9,
        resonance_frequency_ge=4e9, #UNSET -- NEED TO MEASURE
        drive_lo_frequency=4e9, #UNSET -- NEED TO MEASURE
        readout_integration_delay=95e-9, #REQUIRES FURTHER CALIBRATION
        readout_range_out=-10,
        drive_range=0,
        readout_range_in=5, #REQUIRES UNDERSTANDING WHY BELOW 5 ALWAYS CAUSES OVERLOADING!
        user_defined={
            'pulse_length': 50e-9,
            'readout_len': 2e-6, #MAY BE ABLE TO EEK THIS A BIT LONGER(?)
            'time_domain_reset_length': 200e-9,
            'cw_reset_length': 5e-9,
            'readout_amp': 1,
            'amplitude_pi': 1,
            'amplitude_pi/2': 1,
            'current_sweetspot': None,
            'current_setpoint': None,
        }
    )
)

qubit=SGKP #Defines which qubit we are actually doing all the measuring of. Important. 
averages=2**9
device_setup.set_calibration(qubit.calibration()) #This sets the settings defined in the qubit params

readout_pulse = pulse_library.gaussian_square(
    uid=f"readout_pulse_{qubit.uid}",
    length=qubit.parameters.user_defined['readout_len'],
    amplitude=qubit.parameters.user_defined['readout_amp'],
    width=qubit.parameters.user_defined['readout_len']*0.9,
    sigma=0.2,)

# device_setup.get_calibration() #Here for checking if all the calibration went well.





def plot_box_whisker_time_series(datetime_array, float_array, t_type_str: str, time_interval_str='2min'):
    # Convert arrays to pandas DataFrame
    data = pd.DataFrame({'time': datetime_array, 'value': float_array})
    
    # Set the datetime column as index
    data.set_index('time', inplace=True)
    
    # Resample the data in 10-minute intervals and aggregate into lists
    data_10min = data.resample(time_interval_str).apply(list) #change this to change the re-sampling times and such
    
    # Drop intervals with no data
    data_10min.dropna(inplace=True)
    
    # Prepare data for plotting
    time_labels = data_10min.index
    float_data_per_interval = data_10min['value']
    
    # Create boxplot
    plt.figure(figsize=(16, 6))
    plt.boxplot(float_data_per_interval, positions=range(len(time_labels)), widths=0.7)
    
    # Customize x-axis with datetime labels
    plt.xticks(ticks=range(len(time_labels)), labels=time_labels.strftime('%H:%M'), rotation=45)
    plt.xlabel('Time (Intervals)')
    plt.ylabel(f'{t_type_str} (us)')
    plt.title(f'{t_type_str} Times over Time')
    
    plt.tight_layout()
    plt.show()

def measure_data_stats(T_run, n_runs):
    global datetime_array
    global fit_out
    fit_out = np.empty((2, n_runs))
    datetime_array = np.empty((n_runs), dtype=datetime.datetime)
    for i in range(n_runs):
        fits = T_run()
        datetime_array[i] = datetime.datetime.now()
        fit_out[:,i] = fits 
    return [datetime_array, fit_out]

def stat_out(data, t_type_str: str):
    mean = np.nanmean(data)
    std = np.nanstd(data)
    print(t_type_str, ' = ', str(mean), '+/-', str(std))
    return [mean, std]

def adjust_phase(IQ_data: np.ndarray, frequency: np.ndarray, electrical_delay: float) -> np.ndarray:
    flattened_angle = np.unwrap(np.angle(np.exp(1j*electrical_delay*2*np.pi*frequency)*IQ_data))
    flattened_angle = flattened_angle - np.mean(flattened_angle)
    return flattened_angle 





def change_dc_current(session, new_current, step_time):
    dc.ramp_current(new_current, 10e-6, step_time)
    # print("DC Current " + str(new_current))

def change_coil_current(session, new_current, step_time):
    coil.ramp_current(new_current, 1e-6, step_time)
    print("Current coil current: " + str(new_current))
    
def sweep_progress(session, linearsweepparameter):
    print(str(linearsweepparameter.count))





try:
    dc = GS200('yoko_right', address = 'TCPIP0::192.168.4.157::inst0::INSTR')
except Exception as e:
    print(e)

try:
    coil= GS200('yoko_left', address = 'TCPIP0::192.168.4.208::inst0::INSTR')
except Exception as e:
    print(e)


# dc.BNC_out.set('ready') # this sets a low signal signaure right after the move has been completed
# dc.BNC_out.get()
# dc.ramp_current(0e-3, 1e-6,0.02)
# dc.output('off')
# dc.source_mode('CURR')
dc.ramp_current(0e-3, 1e-6,0.02)
dc.output('on')
dc.current_range(0.01)

# coil.BNC_out.set('ready') # this sets a low signal signature right after the move has been completed
# coil.BNC_out.get()
# coil.ramp_current(0e-3, 1e-6,0.02)
# coil.output('off')
# coil.source_mode('CURR')
coil.ramp_current(0e-3, 1e-6,0.02)
coil.output('on')
coil.current_range(0.01)

# dc.current.get()
# coil.current.get()





readout_delay = LinearSweepParameter(
    uid='readout_delay', start=75e-9, stop=125e-9, count=51)

exp = Experiment(
    uid="Readout_Delay_Calibration",
    signals=[
        ExperimentSignal(uid="measure", map_to=lsg[qubit.uid]['measure_line']),
        ExperimentSignal(uid="acquire", map_to=lsg[qubit.uid]['acquire_line']),
    ]
)
exp_calibration = Calibration()
with exp.sweep(uid="readout_delay", parameter=readout_delay,):
    exp_calibration['acquire'] = SignalCalibration(port_delay=readout_delay)
    exp.set_calibration(exp_calibration)
    with exp.acquire_loop_rt(
        uid="shots",
        count=averages,
        averaging_mode=AveragingMode.SEQUENTIAL,
        acquisition_type=AcquisitionType.INTEGRATION,
    ):
        # readout pulse and data acquisition
        with exp.section(uid="readout",):
            exp.play(
                signal="measure",
                pulse=readout_pulse)
            exp.acquire( #acquire on its own seems to be able to measure things, but not as well(?)
                signal='acquire',
                handle='single_freq_data',
                length=qubit.parameters.user_defined['readout_len'],
                kernel=readout_pulse #this is important to actually integrate against so the result is non-zero
            )
        with exp.section(uid="delay_between_readout", length=210e-9):
            exp.reserve(signal="measure")
            exp.reserve(signal="acquire")





session = Session(
    device_setup=device_setup,
    log_level = logging.WARNING,
    experiment=exp)
session.connect(use_async_api=True);
compiled_session = session.compile(exp);
# psv.interactive_psv(compiled_session, max_events_to_publish=1000,)





results = session.run()
my_results = session.get_results() #a deep copy of session.results
my_acquired_results = my_results.acquired_results['single_freq_data'] #extracts data from the exp.acquire method with the same key name





time_delay = my_acquired_results.axis[0]
IQ_data = my_acquired_results.data
amplitude = np.abs(IQ_data)
phase = adjust_phase(IQ_data, freqs, qubit.parameters.readout_integration_delay)

fig, ax = plt.subplots(2, 1, figsize=(8,6))
ax[0].plot(time_delay*1e9, amplitude)
ax[0].set_title(f'{qubit.uid} Sweeping Acquire Delay')
ax[0].set_xlabel('Time delay (ns)')
ax[0].set_ylabel('Amplitude (a.u.)')
ax[0].vlines(87, np.min(amplitude), np.max(amplitude), 'r')
ax[0].grid()

ax[1].plot(time_delay*1e9, phase)
ax[1].set_title(f'{qubit.uid} Sweeping Acquire Delay')
ax[1].set_xlabel('Time delay (ns)')
ax[1].set_ylabel('Phase')
ax[1].vlines(87, np.min(phase), np.max(phase))
ax[1].grid()
fig.tight_layout()





# Is now working now that there is a kernel for the integration (in integration mode). For ease, I am having the kernel be the same as the applied drive pulse.
exp = Experiment(
    uid="Single Point Readout",
    signals=[
        ExperimentSignal(uid="measure", map_to=lsg[qubit.uid]['measure_line']),
        ExperimentSignal(uid="acquire", map_to=lsg[qubit.uid]['acquire_line']),
    ]
)

with exp.acquire_loop_rt(
    uid='shots',
    count=averages,
    averaging_mode=AveragingMode.CYCLIC,
    acquisition_type=AcquisitionType.INTEGRATION,
):
    with exp.section(uid="Pulsed Single Frequency Readout"):
        exp.play(
            signal="measure",
            pulse=readout_pulse
        )
        exp.acquire( #acquire on its own seems to be able to measure things, but not as well(?)
            signal='acquire',
            handle='single_freq_data',
            length=qubit.parameters.user_defined['readout_len'],
            kernel=readout_pulse #this is important to actually integrate against so the result is non-zero
        )
    with exp.section(uid="delay_between_readout", length=qubit.parameters.user_defined['time_domain_reset_length']):
        exp.reserve(signal='measure')





session = Session(
    device_setup=device_setup,
    log_level = logging.WARNING,
    experiment=exp)
session.connect(use_async_api=True);
compiled_session = session.compile(exp);
# psv.interactive_psv(compiled_session, max_events_to_publish=10000,)





results = session.run()
my_results = session.get_results() #a deep copy of session.results
my_acquired_results = my_results.acquired_results['single_freq_data'] #extracts data from the exp.acquire method with the same key name





# Just one data point... so not much to see here...
print(np.abs(my_acquired_results.data))
my_acquired_results





# Full frequency span for readout resonator
readout_lo_freq_sweep = LinearSweepParameter(
    uid='Readout_LO', start=4e9, stop=8e9, count=5)

readout_freq_sweep = LinearSweepParameter(
    uid='Readout_Frequency', start=-500e6, stop=495e6, count=101)

exp = Experiment(
    uid="Resonator Trace",
    signals=[
        ExperimentSignal(uid="measure", map_to=lsg[qubit.uid]['measure_line']),
        ExperimentSignal(uid="acquire", map_to=lsg[qubit.uid]['acquire_line']),
        ExperimentSignal(uid="drive", map_to=lsg[qubit.uid]['drive_line'])
    ]
)
with exp.sweep(
    uid='Readout LO Frequency Sweep',
    parameter=readout_lo_freq_sweep
):
    with exp.acquire_loop_rt(
        uid='shots',
        count=averages,
        averaging_mode=AveragingMode.CYCLIC,
        acquisition_type=AcquisitionType.SPECTROSCOPY,
    ):
        with exp.sweep(
            uid='Readout Frequency Sweep',
            parameter=readout_freq_sweep,
            reset_oscillator_phase=True
        ):
            with exp.section(uid="Pulsed Single Frequency Readout"):
                exp.play(
                    signal="measure",
                    pulse=readout_pulse
                )
                exp.acquire( #acquire on its own seems to be able to measure things, but not as well(?)
                    signal='acquire',
                    handle='single_freq_data',
                    length=qubit.parameters.user_defined['readout_len'],
                )
            with exp.section(uid="delay_between_readout", length=qubit.parameters.user_defined['cw_reset_length']):
                exp.reserve(signal="measure")

exp_calibration = Calibration()
readout_osc = Oscillator(
    "readout_osc",
    frequency=readout_freq_sweep,
    modulation_type=ModulationType.HARDWARE)
readout_lo = Oscillator(
    "readout_lo",
    frequency=readout_lo_freq_sweep,
    modulation_type=ModulationType.HARDWARE)
exp_calibration["measure"] = SignalCalibration(
    oscillator=readout_osc,
    local_oscillator=readout_lo)
exp_calibration["acquire"] = SignalCalibration(
    oscillator=readout_osc,
    local_oscillator=readout_lo)
exp.set_calibration(exp_calibration)





session = Session(
    device_setup=device_setup,
    log_level = logging.WARNING,
    experiment=exp)
session.connect(use_async_api=True);
compiled_session = session.compile(exp);
# psv.interactive_psv(compiled_session, max_events_to_publish=10000,)





results = session.run()
my_results = session.get_results() #a deep copy of session.results
my_acquired_results = my_results.acquired_results['single_freq_data'] #extracts data from the exp.acquire method with the same key name





lo_array = my_acquired_results.axis[0]
AWG_freqs = my_acquired_results.axis[1]
freqs = np.empty((0))
for lo in lo_array:
    freqs = np.append(freqs, lo + AWG_freqs,)


# For plotting current vs single resonator point
IQ_data = my_acquired_results.data.ravel()
amplitude = np.abs(IQ_data)
phase = adjust_phase(IQ_data, freqs, qubit.parameters.readout_integration_delay)

fig, ax = plt.subplots(2,1, figsize=(8,6))
ax[0].plot(freqs, amplitude)
ax[0].set_title('Wide Range Pulsed Trace')
ax[0].set_xlabel('Frequency (GHz)')
ax[0].set_ylabel('Amplitude (a.u.)')
ax[1].plot(freqs, phase)
ax[1].set_title('Wide Range Pulsed Trace')
ax[1].set_xlabel('Frequency (GHz)')
ax[1].set_ylabel('Phase')
fig.tight_layout()





lo_freq_offset = qubit.parameters.readout_resonator_frequency-qubit.parameters.readout_lo_frequency

ro_frequency_sweep = LinearSweepParameter(
    uid='Readout_Frequency_Sweep',
    start=lo_freq_offset-5e6,
    stop=lo_freq_offset+5e6,
    count=201)

exp = Experiment(
    uid="Resonator Trace",
    signals=[
        ExperimentSignal(uid="measure", map_to=lsg[qubit.uid]['measure_line']),
        ExperimentSignal(uid="acquire", map_to=lsg[qubit.uid]['acquire_line']),
        ExperimentSignal(uid="drive", map_to=lsg[qubit.uid]['drive_line'])
    ]
)

with exp.acquire_loop_rt(
    uid='shots',
    count=averages,
    averaging_mode=AveragingMode.CYCLIC,
    acquisition_type=AcquisitionType.SPECTROSCOPY,
):
    with exp.sweep(
        uid='Readout Frequency Sweep',
        parameter=ro_frequency_sweep,
        reset_oscillator_phase=True
    ):
        with exp.section(uid="Pulsed Single Frequency Readout"):
            exp.play(
                signal="measure",
                pulse=readout_pulse
            )
            exp.acquire( #acquire on its own seems to be able to measure things, but not as well(?)
                signal='acquire',
                handle='single_freq_data',
                length=qubit.parameters.user_defined['readout_len'],
            )
        with exp.section(uid="delay_between_readout", length=qubit.parameters.user_defined['cw_reset_length']):
            exp.reserve(signal="measure")

exp_calibration = Calibration()
readout_osc = Oscillator(
    "readout_osc",
    frequency=ro_frequency_sweep,
    modulation_type=ModulationType.HARDWARE,)
exp_calibration["measure"] = SignalCalibration(
    oscillator=readout_osc,)
exp_calibration["acquire"] = SignalCalibration(
    oscillator=readout_osc,
    port_delay=qubit.parameters.readout_integration_delay)
exp.set_calibration(exp_calibration)





session = Session(
    device_setup=device_setup,
    log_level = logging.WARNING,
    experiment=exp)
session.connect(use_async_api=True);
compiled_session = session.compile(exp);
# psv.interactive_psv(compiled_session, max_events_to_publish=10000,)





results = session.run()
my_results = session.get_results() #a deep copy of session.results
my_acquired_results = my_results.acquired_results['single_freq_data'] #extracts data from the exp.acquire method with the same key name





# For plotting current vs single resonator point
freqs = my_acquired_results.axis[0] + qubit.parameters.readout_lo_frequency
IQ_data = my_acquired_results.data
amplitude = np.abs(IQ_data)
phase = adjust_phase(IQ_data, freqs, qubit.parameters.readout_integration_delay)

fig, ax = plt.subplots(2,1, figsize=(8,6))
ax[0].plot(freqs, amplitude)
ax[0].set_title(f'{qubit.uid} Near Resonator Pulsed Trace')
ax[0].set_xlabel('Frequency (GHz)')
ax[0].set_ylabel('Amplitude (a.u.)')
ax[0].grid()
ax[1].plot(freqs, phase)
ax[1].set_title(f'{qubit.uid} Near Resonator Pulsed Trace')
ax[1].set_xlabel('Frequency (GHz)')
ax[1].set_ylabel('Phase')
ax[1].grid()
fig.tight_layout()
ax[0].vlines(qubit.parameters.readout_resonator_frequency, np.min(amplitude), np.max(amplitude), colors='r');
ax[1].vlines(qubit.parameters.readout_resonator_frequency, np.min(phase), np.max(phase), colors='r');





#Note this is a power sweep of the pulse amplitude, not of powers! The conversion from amplitude to powers is squared.
lo_freq_offset = qubit.parameters.readout_resonator_frequency-qubit.parameters.readout_lo_frequency

readout_pulse_punchout = pulse_library.gaussian_square(
    uid=f"readout_pulse_{qubit.uid}",
    length=qubit.parameters.user_defined['readout_len'],
    amplitude=1,
    width=qubit.parameters.user_defined['readout_len']*0.9,
    sigma=0.2,)

ro_frequency_sweep = LinearSweepParameter(
    uid='Readout_Frequency_Sweep',
    start=lo_freq_offset-3e6,
    stop=lo_freq_offset+3e6,
    count=201) 

power_sweep = SweepParameter(
    uid='Readout_Power', values=np.logspace(start=-1.5,stop=0,num=15,base=10))

exp = Experiment(
    uid="Punchout",
    signals=[
        ExperimentSignal(uid="measure", map_to=lsg[qubit.uid]['measure_line']),
        ExperimentSignal(uid="acquire", map_to=lsg[qubit.uid]['acquire_line']),
        ExperimentSignal(uid="drive", map_to=lsg[qubit.uid]['drive_line'])
    ]
)

with exp.sweep(
    uid='Power sweep',
    parameter=power_sweep,
):
    with exp.acquire_loop_rt(
        uid='shots',
        count=averages,
        averaging_mode=AveragingMode.CYCLIC,
        acquisition_type=AcquisitionType.SPECTROSCOPY,
    ):
    
        with exp.sweep(
            uid='Readout_Frequency_Sweep',
            parameter=ro_frequency_sweep,
            reset_oscillator_phase=True
        ):
            with exp.section(uid="single_res_point_readout"):
                exp.play(
                    signal="measure",
                    pulse=readout_pulse_punchout,
                    amplitude=power_sweep,
                )
                exp.acquire(
                    signal='acquire',
                    handle='single_freq_data',
                    length=qubit.parameters.user_defined['readout_len'],
                )
            with exp.section(uid="delay_between_readout", length=qubit.parameters.user_defined['cw_reset_length']):
                exp.reserve(signal="measure")

exp_calibration = Calibration()
readout_osc = Oscillator(
    "readout_osc",
    frequency=ro_frequency_sweep,
    modulation_type=ModulationType.HARDWARE)
exp_calibration["measure"] = SignalCalibration(
    oscillator=readout_osc,)
exp_calibration["acquire"] = SignalCalibration(
    oscillator=readout_osc,
    port_delay=qubit.parameters.readout_integration_delay)
exp.set_calibration(exp_calibration)





session = Session(
    device_setup=device_setup,
    log_level = logging.WARNING,
    experiment=exp)
session.connect(use_async_api=True);
compiled_session = session.compile(exp);
# psv.interactive_psv(compiled_session, max_events_to_publish=100,)





results = session.run()
my_results = session.get_results() #a deep copy of session.results
my_acquired_results = my_results.acquired_results['single_freq_data'] #extracts data from the exp.acquire method with the same key name





# For plotting punchout
freqs = my_acquired_results.axis[1]+qubit.parameters.readout_lo_frequency
IQ_data = my_acquired_results.data
normalized_amp_data = np.divide(np.abs(IQ_data).T, np.mean(np.abs(IQ_data), axis=1))
normalized_dB_data = np.log10(normalized_amp_data)
phase = adjust_phase(IQ_data, freqs, qubit.parameters.readout_integration_delay)

amplitude = my_acquired_results.axis[0]
power = 10*np.log10(amplitude**2)+qubit.parameters.readout_range_out

graphing_data = normalized_dB_data #phase.T

fig, ax = plt.subplots(1,2, figsize=(9,6))
cmap0 = ax[0].pcolor(amplitude,
             freqs,
             graphing_data,
             shading='nearest')
ax[0].set_title(f'{qubit.uid} Punchout of Resonator (Pulse Amplitude)')
ax[0].set_xlabel('Pulse Amplitude')
ax[0].set_ylabel('Readout Frequency (GHz)')
ax[0].set_xscale('log')
cmap1 = ax[1].pcolor(power,
             freqs,
             graphing_data,
             shading='nearest')
fig.colorbar(cmap0, ax=ax[0])
fig.colorbar(cmap1, ax=ax[1])
ax[1].set_title(f'{qubit.uid} Punchout of Resonator (dBm)')
ax[1].set_xlabel('dBm')
ax[1].set_ylabel('Readout Frequency (GHz)')
fig.tight_layout()





dc_sweep_param = LinearSweepParameter(
    uid='DC Current', start=0e-6, stop=4e-6, count=5)

coil_sweep_param = LinearSweepParameter(
    uid='Coil Current', start=-100e-6, stop=100e-6, count=101)


# This one is a direct copy of my working spectroscopy scan but now includes a 1D resonator sweep.
lo_freq_offset = qubit.parameters.readout_resonator_frequency-qubit.parameters.readout_lo_frequency

ro_frequency_sweep = LinearSweepParameter(
    uid='Readout_Frequency_Sweep',
    start=lo_freq_offset-12e6,
    stop=lo_freq_offset+12e6,
    count=101) #NOTE! This is the frequency offset from the LO. Need better integration for ease of use.

dc_sweep_param = LinearSweepParameter(
    uid='DC Current', start=-500e-6, stop=500e-6, count=201)

coil_sweep_param = LinearSweepParameter(
    uid='Coil Current', start=-100e-6, stop=100e-6, count=101)

current_sweep_param = dc_sweep_param #Simply change coil_sweep_param to dc_sweep param for dc sweep.

exp = Experiment(
    uid="1D Current vs Resonator",
    signals=[
        ExperimentSignal(uid="measure", map_to=lsg[qubit.uid]['measure_line']),
        ExperimentSignal(uid="acquire", map_to=lsg[qubit.uid]['acquire_line']),
        ExperimentSignal(uid="drive", map_to=lsg[qubit.uid]['drive_line'])
    ]
)

with exp.sweep(
    uid="Yoko Sweep",
    parameter=current_sweep_param,
    execution_type=ExecutionType.NEAR_TIME,
):
    exp.call('change_current', new_current=current_sweep_param, step_time=0.01) 
    with exp.acquire_loop_rt(
        uid='shots',
        count=averages,
        averaging_mode=AveragingMode.CYCLIC,
        acquisition_type=AcquisitionType.SPECTROSCOPY,
    ):
        with exp.sweep(
                uid='Readout Resonator Frequency Sweep',
                parameter=ro_frequency_sweep,
                reset_oscillator_phase=True
            ):
                with exp.section(uid="Pulsed Single Frequency Readout"):
                    exp.play(
                        signal="measure",
                        pulse=readout_pulse
                    )
                    exp.acquire( #acquire on its own seems to be able to measure things, but not as well(?)
                        signal='acquire',
                        handle='single_freq_data',
                        length=qubit.parameters.user_defined['readout_len'],
                    )
                with exp.section(uid="delay_between_readout", length=qubit.parameters.user_defined['time_domain_reset_length']):
                    exp.reserve(signal="measure")

exp_calibration = Calibration()
readout_osc = Oscillator(
    "readout_osc",
    frequency=ro_frequency_sweep,
    modulation_type=ModulationType.HARDWARE)
exp_calibration["measure"] = SignalCalibration(
    oscillator=readout_osc,)
exp_calibration["acquire"] = SignalCalibration(
    oscillator=readout_osc,
    port_delay=qubit.parameters.readout_integration_delay)
exp.set_calibration(exp_calibration)





session = Session(
    device_setup=device_setup,
    log_level = logging.WARNING,
    experiment=exp)
session.connect(use_async_api=True);
session.register_neartime_callback(change_dc_current, 'change_current')
session.register_neartime_callback(change_coil_current, 'change_current')
compiled_session = session.compile(exp);
# psv.interactive_psv(compiled_session, max_events_to_publish=10000,)





results = session.run()
my_results = session.get_results() #a deep copy of session.results
my_acquired_results = my_results.acquired_results['single_freq_data'] #extracts data from the exp.acquire method with the same key name





# For plotting 1D flux sweep
freqs = my_acquired_results.axis[1] + qubit.parameters.readout_lo_frequency
IQ_data = my_acquired_results.data
amplitude = np.abs(IQ_data)
phase = adjust_phase(IQ_data, freqs, qubit.parameters.readout_integration_delay)
currents = my_acquired_results.axis[0]*1e6

fig, ax = plt.subplots(1,2, figsize=(15,6))
cmap0 = ax[0].pcolor(currents,
             freqs,
             amplitude.T,
             shading='nearest')
ax[0].set_title(f'{qubit.uid} Resonator Current Response')
ax[0].set_xlabel('Currents (uA)')
ax[0].set_ylabel('Readout Frequency (GHz)')
cmap1 = ax[1].pcolor(currents,
             freqs,
             phase.T,
             shading='nearest',)
fig.colorbar(cmap0, ax=ax[0])
fig.colorbar(cmap1, ax=ax[1])
ax[1].set_title(f'{qubit.uid} Resonator Current Response')
ax[1].set_xlabel('Currents (uA)')
ax[1].set_ylabel('Readout Frequency (GHz)')
fig.tight_layout()





dc_sweep_param = LinearSweepParameter(
    uid='DC_Current', start=-2000e-6, stop=2000e-6, count=301)

coil_sweep_param = LinearSweepParameter(
    uid='Coil_Current', start=-150e-6, stop=150e-6, count=301)

exp = Experiment(
    uid="2D Current Sweep",
    signals=[
        ExperimentSignal(uid="measure", map_to=lsg[qubit.uid]['measure_line']),
        ExperimentSignal(uid="acquire", map_to=lsg[qubit.uid]['acquire_line']),
        ExperimentSignal(uid="drive", map_to=lsg[qubit.uid]['drive_line'])
    ]
)

with exp.sweep(
    uid='coil sweep',
    parameter=coil_sweep_param,
    execution_type=ExecutionType.NEAR_TIME,
):
    exp.call('Coil_Current', new_current=coil_sweep_param, step_time=0.01)
    with exp.sweep(
        uid="dc sweep",
        parameter=dc_sweep_param,
        execution_type=ExecutionType.NEAR_TIME,
    ):
        exp.call('DC_Current', new_current=dc_sweep_param, step_time=0.01) #note that "argument" session (first argument to the function) is automatically passed
        with exp.acquire_loop_rt(
            uid="shots",
            count=averages,
            acquisition_type=AcquisitionType.INTEGRATION,
            averaging_mode=AveragingMode.SEQUENTIAL
        ):
            with exp.section(uid="Pulsed Single Frequency Readout"):
                exp.play(
                    signal="measure",
                    pulse=readout_pulse
                )
                exp.acquire(
                    signal='acquire',
                    handle='single_freq_data',
                    kernel=readout_pulse,
                    length=qubit.parameters.user_defined['readout_len'],
                )
            with exp.section(uid="delay_between_readout", length=qubit.parameters.user_defined['reset_length']):
                exp.reserve(signal="measure")





session = Session(
    device_setup=device_setup,
    log_level = logging.WARNING,
    experiment=exp)
session.connect(use_async_api=True);
session.register_neartime_callback(change_dc_current, 'DC_Current')
session.register_neartime_callback(change_coil_current, 'Coil_Current')
compiled_session = session.compile(exp);
# psv.interactive_psv(compiled_session, max_events_to_publish=1000,)





results = session.run()
my_results = session.get_results() #a deep copy of session.results
my_acquired_results = my_results.acquired_results['single_freq_data'] #extracts data from the exp.acquire method with the same key name





#plotting resonator over flux
amp_data = np.abs(my_acquired_results.data)
phase_data = np.angle(my_acquired_results.data)
db_data = np.log10(amp_data)

coil_currents = my_acquired_results.axis[0]
dc_currents = my_acquired_results.axis[1]

fig, ax = plt.subplots(1,2, figsize=(15,6))
cmap0 = ax[0].pcolor(coil_currents*1e6,
             dc_currents*1e6,
             db_data.T,
             shading='nearest')
ax[0].set_title(f'{qubit.uid} Resonator 2D Flux Response')
ax[0].set_xlabel('Coil Currents (uA)')
ax[0].set_ylabel('On-Chip DC (uA)')
cmap1 = ax[1].pcolor(coil_currents*1e6,
             dc_currents*1e6,
             phase_data.T,
             shading='nearest')
ax[1].set_title(f'{qubit.uid} Resonator 2D Flux Response')
ax[1].set_xlabel('Coil Currents (uA)')
ax[1].set_ylabel('On-Chip DC (uA)')
fig.colorbar(cmap0, ax=ax[0])
fig.colorbar(cmap1, ax=ax[1])
fig.tight_layout()





drive_lo_freq_sweep = LinearSweepParameter(
    uid='Drive_LO', start=1e9, stop=8e9, count=8)

drive_freq_sweep = LinearSweepParameter(
    uid='Drive_Frequency', start=-500e6, stop=498e6, count=500)

exp = Experiment(
    uid="Spectroscopy",
    signals=[
        ExperimentSignal(uid="measure", map_to=lsg[qubit.uid]['measure_line']),
        ExperimentSignal(uid="acquire", map_to=lsg[qubit.uid]['acquire_line']),
        ExperimentSignal(uid="drive", map_to=lsg[qubit.uid]['drive_line'])
    ]
)

with exp.sweep(
    uid='Sweep Drive LO',
    parameter=drive_lo_freq_sweep
):
    with exp.acquire_loop_rt(
        uid='shots',
        count=averages,
        averaging_mode=AveragingMode.SEQUENTIAL,
        acquisition_type=AcquisitionType.INTEGRATION,
    ):
        with exp.sweep(
            uid='Drive Frequency Sweep',
            parameter=drive_freq_sweep,
        ):
            with exp.section(uid='Play drive'):
                exp.play(
                    signal="drive",
                    pulse=pulse_library.gaussian_square(
                    uid=f"drive_pulse_{qubit.uid}",
                    length=600e-9,
                    width=500e-9*0.9,
                    sigma=0.2,
                    marker = {"marker1": {"enable": True}}))
            with exp.section(
                uid="single_res_point_readout",
                play_after='Play drive',
            ):
                exp.play(
                    signal="measure",
                    pulse=readout_pulse)
                exp.acquire( #acquire on its own seems to be able to measure things, but not as well(?)
                    signal='acquire',
                    handle='single_freq_data',
                    length=qubit.parameters.user_defined['readout_len'],
                    kernel=readout_pulse #this is important to actually integrate against so the result is non-zero
                )
            with exp.section(uid="delay_between_readout", length=qubit.parameters.user_defined['time_domain_reset_length']*50):
                exp.reserve(signal="measure")
                exp.reserve(signal="drive")

exp_calibration = Calibration()
drive_osc = Oscillator(
    "drive_osc",
    frequency=drive_freq_sweep,
    modulation_type=ModulationType.HARDWARE)
drive_lo = Oscillator(
    'drive_lo',
    frequency=drive_lo_freq_sweep,
    modulation_type=ModulationType.HARDWARE)
exp_calibration["drive"] = SignalCalibration(
    oscillator=drive_osc,
    local_oscillator=drive_lo)
exp.set_calibration(exp_calibration)





session = Session(
    device_setup=device_setup,
    log_level = logging.WARNING,
    experiment=exp)
session.connect();
compiled_session = session.compile(exp);
# psv.interactive_psv(compiled_session, max_events_to_publish=100,)





results = session.run()
my_results = session.get_results() #a deep copy of session.results
my_acquired_results = my_results.acquired_results['single_freq_data'] #extracts data from the exp.acquire method with the same key name





drive_lo_array = my_acquired_results.axis[0]
drive_AWG_freqs = my_acquired_results.axis[1]
drive_freqs = np.empty((0))
for drive_lo in drive_lo_array:
    drive_freqs = np.append(drive_freqs, drive_lo + drive_AWG_freqs,)


# For plotting current vs single resonator point
IQ_data = my_acquired_results.data.ravel()
amplitude = np.abs(IQ_data)
phase = np.angle(IQ_data)

fig, ax = plt.subplots(2,1, figsize=(8,6))
ax[0].plot(drive_freqs, amplitude)
ax[0].set_title(f'{qubit.uid} Spectrum')
ax[0].set_xlabel('Frequency (GHz)')
ax[0].set_ylabel('Amplitude')
# ax[0].set_ylim(0.05,0.25)
ax[0].grid()
ax[1].plot(drive_freqs, phase)
ax[1].set_title(f'{qubit.uid} Spectrum')
ax[1].set_xlabel('Drive Frequency (GHz)')
ax[1].set_ylabel('Phase')
ax[1].grid()
fig.tight_layout()





drive_freq_sweep = LinearSweepParameter(
    uid='Drive_Frequency',
    start=qubit.parameters.drive_frequency_ge-20e6,
    stop=qubit.parameters.drive_frequency_ge+20e6,
    count=51
)

exp = Experiment(
    uid="Spectroscopy",
    signals=[
        ExperimentSignal(uid="measure", map_to=lsg[qubit.uid]['measure_line']),
        ExperimentSignal(uid="acquire", map_to=lsg[qubit.uid]['acquire_line']),
        ExperimentSignal(uid="drive", map_to=lsg[qubit.uid]['drive_line'])
    ]
)

with exp.acquire_loop_rt(
    uid='shots',
    count=averages,
    averaging_mode=AveragingMode.CYCLIC,
    acquisition_type=AcquisitionType.INTEGRATION,
):
    with exp.sweep(
        uid='Drive Frequency Sweep',
        parameter=drive_freq_sweep,
    ):
        with exp.section(uid='Play drive'):
            exp.play(
                signal="drive",
                pulse=pulse_library.gaussian_square(
                    uid=f"drive_spec_pulse_{qubit.uid}",
                    length=qubit.parameters.user_defined["pulse_length"],
                    amplitude=1), #qubit.parameters.user_defined['amplitude_pi']), #max power to start
            )
        with exp.section(
            uid="single_res_point_readout",
            play_after='Play drive',
        ):
            exp.play(
                signal="measure",
                pulse=readout_pulse)
            exp.acquire( #acquire on its own seems to be able to measure things, but not as well(?)
                signal='acquire',
                handle='single_freq_data',
                length=qubit.parameters.user_defined['readout_len'],
                kernel=readout_pulse #this is important to actually integrate against so the result is non-zero
            )
        with exp.section(uid="delay_between_readout", length=qubit.parameters.user_defined['time_domain_reset_length']):
            exp.reserve(signal="measure")
            exp.reserve(signal="drive")

exp_calibration = Calibration()
drive_osc = Oscillator(
    "drive_osc",
    frequency=drive_freq_sweep,
    modulation_type=ModulationType.HARDWARE)
exp_calibration["drive"] = SignalCalibration(
    oscillator=drive_osc,)
exp.set_calibration(exp_calibration)





session = Session(
    device_setup=device_setup,
    log_level = logging.WARNING,
    experiment=exp)
session.connect();
compiled_session = session.compile(exp);
# psv.interactive_psv(compiled_session, max_events_to_publish=100,)





results = session.run()
my_results = session.get_results() #a deep copy of session.results
my_acquired_results = my_results.acquired_results['single_freq_data'] #extracts data from the exp.acquire method with the same key name





# For plotting current vs single resonator point
freqs = my_acquired_results.axis[0] + qubit.parameters.drive_lo_frequency
IQ_data = my_acquired_results.data
amplitude = np.abs(IQ_data)
phase = np.angle(IQ_data)
phase = phase - np.mean(phase)

fig, ax = plt.subplots(2,1, figsize=(8,6))
ax[0].plot(freqs, amplitude)
ax[0].set_title(f'{qubit.uid} Spectrum near Transition')
ax[0].set_xlabel('Drive Frequency (GHz)')
ax[0].set_ylabel('Amplitude')
ax[0].grid()
# ax[0].vlines(qubit.parameters.drive_frequency_ge+qubit.parameters.drive_lo_frequency, np.min(amplitude), np.max(amplitude), colors='r');
ax[1].plot(freqs, phase)
ax[1].set_title(f'{qubit.uid} Spectrum near Transition')
ax[1].set_xlabel('Drive Frequency (GHz)')
ax[1].set_ylabel('Phase')
ax[1].grid()
ax[0].vlines(qubit.parameters.resonance_frequency_ge, np.min(amplitude), np.max(amplitude), colors='r');
ax[1].vlines(qubit.parameters.resonance_frequency_ge, np.min(phase), np.max(phase), colors='r')
fig.tight_layout()





drive_freq_sweep = LinearSweepParameter(
    uid='Drive_Frequency',
    start=10e6,
    stop=1e9,
    count=991
)

exp = Experiment(
    uid="Spectroscopy",
    signals=[
        ExperimentSignal(uid="measure", map_to=lsg[qubit.uid]['measure_line']),
        ExperimentSignal(uid="acquire", map_to=lsg[qubit.uid]['acquire_line']),
        ExperimentSignal(uid="drive", map_to=lsg[qubit.uid]['drive_line'])
    ]
)

with exp.acquire_loop_rt(
    uid='shots',
    count=averages,
    averaging_mode=AveragingMode.CYCLIC,
    acquisition_type=AcquisitionType.INTEGRATION,
):
    with exp.sweep(
        uid='Drive Frequency Sweep',
        parameter=drive_freq_sweep,
    ):
        with exp.section(uid='Play drive'):
            exp.play(
                signal="drive",
                pulse=pulse_library.gaussian_square(
                    uid=f"drive_spec_pulse_{qubit.uid}",
                    length=qubit.parameters.user_defined["pulse_length"],
                    amplitude=1), #qubit.parameters.user_defined['amplitude_pi']), #max power to start
            )
        with exp.section(
            uid="single_res_point_readout",
            play_after='Play drive',
        ):
            exp.play(
                signal="measure",
                pulse=readout_pulse)
            exp.acquire( #acquire on its own seems to be able to measure things, but not as well(?)
                signal='acquire',
                handle='single_freq_data',
                length=qubit.parameters.user_defined['readout_len'],
                kernel=readout_pulse #this is important to actually integrate against so the result is non-zero
            )
        with exp.section(uid="delay_between_readout", length=qubit.parameters.user_defined['reset_length']):
            exp.reserve(signal="measure")
            exp.reserve(signal="drive")

exp_calibration = Calibration()
drive_osc = Oscillator(
    "drive_osc",
    frequency=drive_freq_sweep,
    modulation_type=ModulationType.HARDWARE)
exp_calibration["drive"] = SignalCalibration(
    oscillator=drive_osc,
    port_mode=PortMode.LF)
exp.set_calibration(exp_calibration)





session = Session(
    device_setup=device_setup,
    log_level = logging.WARNING,
    experiment=exp)
session.connect();
compiled_session = session.compile(exp);
# psv.interactive_psv(compiled_session, max_events_to_publish=100,)





results = session.run()
my_results = session.get_results() #a deep copy of session.results
my_acquired_results = my_results.acquired_results['single_freq_data'] #extracts data from the exp.acquire method with the same key name





# For plotting current vs single resonator point
drive_freqs = my_acquired_results.axis[0]
IQ_data = my_acquired_results.data
amplitude = np.abs(IQ_data)
phase = np.angle(IQ_data)

fig, ax = plt.subplots(2,1, figsize=(8,6))
ax[0].plot(drive_freqs, amplitude)
ax[0].set_title(f'{qubit.uid} Spectrum')
ax[0].set_xlabel('Frequency (GHz)')
ax[0].set_ylabel('Amplitude')
ax[0].grid()
ax[1].plot(drive_freqs, phase)
ax[1].set_title(f'{qubit.uid} Spectrum')
ax[1].set_xlabel('Drive Frequency (GHz)')
ax[1].set_ylabel('Phase')
ax[1].grid()
fig.tight_layout()





time_delay = LinearSweepParameter(
    uid='time_delay', start=0, stop=800e-6, count=15)

def T1_1shot():
    exp = Experiment(
        uid="Spectroscopy",
        signals=[
            ExperimentSignal(uid="measure", map_to=lsg[qubit.uid]['measure_line']),
            ExperimentSignal(uid="acquire", map_to=lsg[qubit.uid]['acquire_line']),
            ExperimentSignal(uid="drive", map_to=lsg[qubit.uid]['drive_line'])
        ]
    )
    
    with exp.acquire_loop_rt(
        uid='shots',
        count=averages,
        averaging_mode=AveragingMode.CYCLIC,
        acquisition_type=AcquisitionType.INTEGRATION,
    ):
        with exp.sweep(
            uid='Delay_sweep',
            parameter=time_delay,
        ):
            with exp.section(uid='Play drive'):
                exp.play(
                    signal="drive",
                    pulse=pulse_library.gaussian_square(
                        uid=f"drive_spec_pulse_{qubit.uid}",
                        length=qubit.parameters.user_defined["pulse_length"],
                        amplitude=qubit.parameters.user_defined['amplitude_pi']), #1,) #max power to start
                )
                exp.delay('drive', time_delay)
            with exp.section(
                uid="single_res_point_readout",
                play_after='Play drive',
            ):
                exp.play(
                    signal="measure",
                    pulse=readout_pulse)
                exp.acquire( #acquire on its own seems to be able to measure things, but not as well(?)
                    signal='acquire',
                    handle='single_freq_data',
                    length=qubit.parameters.user_defined['readout_len'],
                    kernel=readout_pulse #this is important to actually integrate against so the result is non-zero
                )
            with exp.section(uid="delay_between_readout", length=qubit.parameters.user_defined['time_domain_reset_length']):
                exp.reserve(signal="measure")
                exp.reserve(signal="drive")
    return exp

exp = T1_1shot()





session = Session(
    device_setup=device_setup,
    log_level = logging.WARNING,
    experiment=exp)
session.connect();
compiled_session = session.compile(exp);
# psv.interactive_psv(compiled_session, max_events_to_publish=100,)





results = session.run()
my_results = session.get_results() #a deep copy of session.results
my_acquired_results = my_results.acquired_results['single_freq_data'] #extracts data from the exp.acquire method with the same key name





amplitude = np.abs(my_acquired_results.data)
phase = np.unwrap(np.angle(my_acquired_results.data))
phase = phase - np.mean(phase)

delay_plot = np.linspace(time_delay.start, time_delay.stop, 501)
popt, pcov = exponential_decay.fit(time_delay, phase, 1/40e-6, 10, 7, plot=False)

fig, ax = plt.subplots(1,1, figsize=(4,4))
ax.plot(time_delay*1e6, phase, '.k')
ax.plot(delay_plot*1e6, exponential_decay(delay_plot, *popt), '-r');
ax.set_title(f"{qubit.uid}'s T1")
ax.set_xlabel('Delay (us)')
ax.set_ylabel('Amplitude')
ax.grid()

print(f"Fitted parameters: {popt}")
print('T1 time ' + str(1/popt[0]*1e6) + ' us') 





def T1_run():
    exp = T1_1shot()
    session = Session(
        device_setup=device_setup,
        log_level = logging.WARNING,
        experiment=exp)
    session.connect();
    compiled_session = session.compile(exp);
    # psv.interactive_psv(compiled_session, max_events_to_publish=100,)
    
    results = session.run()
    my_results = session.get_results() #a deep copy of session.results
    my_acquired_results = my_results.acquired_results['single_freq_data'] #extracts data from the exp.acquire method with the same key name

    IQ_data = my_acquired_results.data
    amplitude = np.abs(IQ_data)
    phase = np.unwrap(np.angle(IQ_data))
    phase = phase-np.mean(phase)
    
    try:
        popt_amp, pcov_amp = exponential_decay.fit(time_delay, amplitude, 1/40e-6, 10, 7, plot=False)
        print(f'Fitted Parameters (amplitude): {popt_amp}')
        print('T1 time ' + str(1/popt_amp[0]*1e6) + ' us')
        amp_t1 = popt_amp[0]
    except Exception as e:
        amp_t1 = None
    
    try:
        popt_phase, pcov_phase = exponential_decay.fit(time_delay, phase, 5e3, 0.2, -0.7, plot=False)
        print(f'Fitted Parameters (phase): {popt_phase}')
        print('T1 time ' + str(1/popt_phase[0]*1e6) + ' us')
        phase_t1 = popt_phase[0]
    except Exception as e: 
        phase_t1 = None
        
    return [amp_t1, phase_t1]


datetime_array, T1_data = measure_data_stats(T1_run, n_runs=1000)


T1_plotted = T1_data[1,:]
stat_out(1/T1_plotted*1e6, 'T1')
plot_box_whisker_time_series(datetime_array, 1/T1_plotted*1e6, 'T1', time_interval_str='10min')





rabi_amp_sweep = LinearSweepParameter(
    uid='rabi_amplitude', start=0, stop=1, count=51)

exp = Experiment(
    uid="Spectroscopy",
    signals=[
        ExperimentSignal(uid="measure", map_to=lsg[qubit.uid]['measure_line']),
        ExperimentSignal(uid="acquire", map_to=lsg[qubit.uid]['acquire_line']),
        ExperimentSignal(uid="drive", map_to=lsg[qubit.uid]['drive_line'])
    ]
)

with exp.acquire_loop_rt(
    uid='shots',
    count=averages,
    averaging_mode=AveragingMode.CYCLIC,
    acquisition_type=AcquisitionType.INTEGRATION,
):
    with exp.sweep(
        uid='Amplitude Sweep',
        parameter=rabi_amp_sweep,
    ):
        with exp.section(uid='Play drive'):
            exp.play(
                signal="drive",
                pulse=pulse_library.gaussian_square(
                    uid=f"drive_spec_pulse_{qubit.uid}",
                    length=qubit.parameters.user_defined["pulse_length"], #can have this be longer if not enough periods
                    amplitude=1,), #max power to start
                amplitude=rabi_amp_sweep,
            )
        with exp.section(
            uid="single_res_point_readout",
            play_after='Play drive',
        ):
            exp.play(
                signal="measure",
                pulse=readout_pulse)
            exp.acquire( #acquire on its own seems to be able to measure things, but not as well(?)
                signal='acquire',
                handle='single_freq_data',
                length=qubit.parameters.user_defined['readout_len'],
                kernel=readout_pulse #this is important to actually integrate against so the result is non-zero
            )
        with exp.section(uid="delay_between_readout", length=qubit.parameters.user_defined['time_domain_reset_length']):
            exp.reserve(signal="measure")
            exp.reserve(signal="drive")





session = Session(
    device_setup=device_setup,
    log_level = logging.WARNING,
    experiment=exp)
session.connect();
compiled_session = session.compile(exp);
# psv.interactive_psv(compiled_session, max_events_to_publish=100,)





results = session.run()
my_results = session.get_results() #a deep copy of session.results
my_acquired_results = my_results.acquired_results['single_freq_data'] #extracts data from the exp.acquire method with the same key name





# plot measurement data
drive_amp = my_acquired_results.axis[0]
IQ_data = my_acquired_results.data
amplitude = np.abs(IQ_data)
phase = np.unwrap(np.angle(IQ_data))
phase = phase-np.mean(phase)

fitting_plot_x = np.linspace(rabi_amp_sweep.start, rabi_amp_sweep.stop, 501)

try: popt_amp, pcov_amp = oscillatory.fit(drive_amp, amplitude)
except: pass

try: popt_phase, pcov_phase = oscillatory.fit(drive_amp, phase, 10, 0, 0.5, 0) #frequency, phase, amplitude, offset
except: pass

fig, ax = plt.subplots(2, 1, figsize=(8,6))
ax[0].plot(drive_amp, amplitude)
try: ax[0].plot(fitting_plot_x, oscillatory(fitting_plot_x, *popt_amp), '-r')
except: pass
ax[0].set_title(f'{qubit.uid} Amplitude Sweep')
ax[0].set_xlabel('Rabi Pulse Amplitude')
ax[0].set_ylabel('Amplitude (a.u.)')
ax[0].vlines(0.81, ymin=np.min(amplitude), ymax=np.max(amplitude), color='orange')
ax[0].vlines(0.32, ymin=np.min(amplitude), ymax=np.max(amplitude), color='orange')
ax[0].grid()
ax[1].plot(drive_amp, phase)
try: ax[1].plot(fitting_plot_x, oscillatory(fitting_plot_x, *popt_phase), '-r')
except: pass
ax[1].set_title(f'{qubit.uid} Amplitude Sweep')
ax[1].set_xlabel('Rabi Pulse Amplitude')
ax[1].set_ylabel('Phase (a.u.)')
ax[1].vlines(qubit.parameters.user_defined['amplitude_pi']-0.01, ymin=np.min(phase), ymax=np.max(phase), color='orange')
ax[1].vlines(qubit.parameters.user_defined['amplitude_pi/2']-0.01, ymin=np.min(phase), ymax=np.max(phase), color='orange')
ax[1].grid()
fig.tight_layout()
try: print(f"Fitted parameters (amplitude): {popt_amp}")
except: pass
try: print(f"Fitted parameters (phase): {popt_phase}")
except: pass





time_delay = LinearSweepParameter(
    uid='time_delay', start=0, stop=60e-6, count=121)

ramsey_drive = pulse_library.gaussian_square(
    uid='ramsey_drive',
    length=qubit.parameters.user_defined['pulse_length'],
    amplitude=qubit.parameters.user_defined['amplitude_pi/2'],
)

def T2star():
    exp = Experiment(
        uid="Spectroscopy",
        signals=[
            ExperimentSignal(uid="measure", map_to=lsg[qubit.uid]['measure_line']),
            ExperimentSignal(uid="acquire", map_to=lsg[qubit.uid]['acquire_line']),
            ExperimentSignal(uid="drive", map_to=lsg[qubit.uid]['drive_line'])
        ]
    )
    
    with exp.acquire_loop_rt(
        uid='shots',
        count=averages,
        averaging_mode=AveragingMode.CYCLIC,
        acquisition_type=AcquisitionType.INTEGRATION,
    ):
        with exp.sweep(
            uid='Delay_sweep',
            parameter=time_delay,
        ):
            with exp.section(uid='Play drive'):
                exp.play(signal="drive", pulse=ramsey_drive)
                exp.delay('drive', time_delay)
                exp.play(signal="drive", pulse=ramsey_drive)
            with exp.section(
                uid="single_res_point_readout",
                play_after='Play drive',
            ):
                exp.play(
                    signal="measure",
                    pulse=readout_pulse)
                exp.acquire( #acquire on its own seems to be able to measure things, but not as well(?)
                    signal='acquire',
                    handle='single_freq_data',
                    length=qubit.parameters.user_defined['readout_len'],
                    kernel=readout_pulse #this is important to actually integrate against so the result is non-zero
                )
            with exp.section(uid="delay_between_readout", length=qubit.parameters.user_defined['time_domain_reset_length']):
                exp.reserve(signal="measure")
                exp.reserve(signal="drive")
    
    exp_calibration = Calibration()
    drive_osc = Oscillator(
        "drive_osc",
        frequency=qubit.parameters.drive_frequency_ge+0.15e6, #offset here of about 1MHz to 3MHz to get precise frequency
        modulation_type=ModulationType.HARDWARE)
    exp_calibration["drive"] = SignalCalibration(
        oscillator=drive_osc,)
    exp.set_calibration(exp_calibration)

    return exp

exp = T2star()





session = Session(
    device_setup=device_setup,
    log_level = logging.WARNING,
    experiment=exp)
session.connect();
compiled_session = session.compile(exp);
# psv.interactive_psv(compiled_session, max_events_to_publish=100,)





results = session.run()
my_results = session.get_results() #a deep copy of session.results
my_acquired_results = my_results.acquired_results['single_freq_data'] #extracts data from the exp.acquire method with the same key name





IQ_data = my_acquired_results.data
amplitude = np.abs(IQ_data)
phase = np.unwrap(np.angle(IQ_data))
phase = phase-np.mean(phase)

fitting_plot_x = np.linspace(time_delay.start, time_delay.stop, 501)

try: popt_amp, pcov_amp = oscillatory_decay.fit(time_delay, amplitude, 2e6, 0, 1e5, 0.1, 3)
except: pass

try: popt_phase, pcov_phase = oscillatory_decay.fit(time_delay, phase, 1e6, 0, 1e6, 0.5, 0) #frequency, phase, decay_rate, amplitude, offset
except: pass

fig, ax = plt.subplots(2, 1, figsize=(8,6))
ax[0].scatter(time_delay*1e6, amplitude)
try: ax[0].plot(fitting_plot_x*1e6, oscillatory_decay(fitting_plot_x, *popt_amp), '-r')
except: pass
ax[0].set_title(f'{qubit.uid} Ramsey Oscillations')
ax[0].set_xlabel('Time Delay (us)')
ax[0].set_ylabel('Amplitude (a.u.)')
ax[0].grid()
ax[1].scatter(time_delay*1e6, phase)
try: ax[1].plot(fitting_plot_x*1e6, oscillatory_decay(fitting_plot_x, *popt_phase), '-r')
except: pass
ax[1].set_title(f'{qubit.uid} Ramsey Oscillations')
ax[1].set_xlabel('Time Delay (us)')
ax[1].set_ylabel('Phase (a.u.)')
ax[1].grid()
fig.tight_layout()
try:
    print(f"Fitted parameters (amplitude): {popt_amp}")
    print(f'detuning = {popt_amp[0]*1e-6} MHz, T2r = {1e6/popt_amp[2]} us')
except: pass
try:
    print(f"Fitted parameters (phase): {popt_phase}")
    print(f'detuning = {popt_phase[0]*1e-6} MHz, T2r = {1e6/popt_phase[2]} us')
except: pass





def T2star_run():
    exp = T2star()
    
    session = Session(
        device_setup=device_setup,
        log_level = logging.WARNING,
        experiment=exp)
    session.connect();
    compiled_session = session.compile(exp);
    
    results = session.run()
    my_results = session.get_results() #a deep copy of session.results
    my_acquired_results = my_results.acquired_results['single_freq_data'] #extracts data from the exp.acquire method with the same key name
    
    IQ_data = my_acquired_results.data
    amplitude = np.abs(IQ_data)
    phase = np.unwrap(np.angle(IQ_data))
    phase = phase-np.mean(phase)
    
    try:
        popt_amp, pcov_amp = oscillatory_decay.fit(time_delay, amplitude, 2e6, 0, 1e5, 0.1, 3)
        print(f'Fitted Parameters (amplitude): {popt_amp}')
        print('T2* time ' + str(1/popt_amp[2]*1e6) + ' us')
        amp_t2star = np.abs(popt_amp[2])
    except Exception as e:
        amp_t2star = None
    
    try:
        popt_phase, pcov_phase = oscillatory_decay.fit(time_delay, phase, 2.0e6, 1, 3e4, 0.2, 0, plot=False) #frequency, phase, decay_rate, amplitude, offset
        print(f'Fitted Parameters (phase): {popt_phase}')
        print('T2* time ' + str(1/popt_phase[2]*1e6) + ' us')
        phase_t2star = np.abs(popt_phase[2])
    except: 
        phase_t2star = None
        
    return [amp_t2star, phase_t2star]


datetime_array, T2star_data = measure_data_stats(T2star_run, n_runs=1000)


boolean_filt = (T2star_data[1,:] > 1e4)
T2star_data_filtered = np.copy(T2star_data)
T2star_data_filtered[1,:] = np.where(boolean_filt, T2star_data[1,:], None) 
print(1/T2star_data_filtered[1,:40]*1e6)


T2star_plotted = T2star_data_filtered[1,:]
stat_out(1/T2star_plotted*1e6, 'T2*')
plot_box_whisker_time_series(datetime_array, 1/T2star_plotted*1e6, 'T2*', time_interval_str='20min')





time_delay = LinearSweepParameter(
    uid='time_delay', start=0, stop=150e-6, count=16)

x90 = pulse_library.gaussian_square(
    uid='x90',
    length=qubit.parameters.user_defined['pulse_length'],
    amplitude=qubit.parameters.user_defined['amplitude_pi/2']
)

y180 = pulse_library.gaussian_square(
    uid='y180',
    length=qubit.parameters.user_defined['pulse_length'],
    amplitude=qubit.parameters.user_defined['amplitude_pi']
)

def T2Echo():
    exp = Experiment(
        uid="Spectroscopy",
        signals=[
            ExperimentSignal(uid="measure", map_to=lsg[qubit.uid]['measure_line']),
            ExperimentSignal(uid="acquire", map_to=lsg[qubit.uid]['acquire_line']),
            ExperimentSignal(uid="drive", map_to=lsg[qubit.uid]['drive_line'])
        ]
    )
    
    with exp.acquire_loop_rt(
        uid='shots',
        count=averages,
        averaging_mode=AveragingMode.CYCLIC,
        acquisition_type=AcquisitionType.INTEGRATION,
        reset_oscillator_phase=True
    ):
        with exp.sweep(
            uid='Delay_sweep',
            parameter=time_delay,
            alignment=SectionAlignment.RIGHT,
            reset_oscillator_phase=True
        ):
            with exp.section(uid='Play drive', alignment=SectionAlignment.RIGHT):
                exp.play(signal="drive", phase=0, pulse=x90)
                exp.delay('drive', time_delay/2)
                exp.play(signal="drive", phase=np.pi, pulse=y180)
                exp.delay('drive', time_delay/2)
                exp.play(signal='drive', phase=0, pulse=x90)
            with exp.section(
                uid="single_res_point_readout",
                play_after='Play drive',
            ):
                exp.play(
                    signal="measure",
                    pulse=readout_pulse)
                exp.acquire( 
                    signal='acquire',
                    handle='single_freq_data',
                    length=qubit.parameters.user_defined['readout_len'],
                    kernel=readout_pulse
                )
            with exp.section(uid="delay_between_readout", length=qubit.parameters.user_defined['time_domain_reset_length']):
                exp.reserve(signal="measure")
                exp.reserve(signal="drive")
    
    exp_calibration = Calibration()
    drive_osc = Oscillator(
        "drive_osc",
        frequency=qubit.parameters.drive_frequency_ge,
        modulation_type=ModulationType.HARDWARE)
    exp_calibration["drive"] = SignalCalibration(
        oscillator=drive_osc,)
    exp.set_calibration(exp_calibration)

    return exp
    
exp = T2Echo()x90 = pulse_library.gaussian_square(
    uid='x90',
    length=qubit.parameters.user_defined['pulse_length'],
    amplitude=qubit.parameters.user_defined['amplitude_pi/2']
)

y180 = pulse_library.gaussian_square(
    uid='y180',
    length=qubit.parameters.user_defined['pulse_length'],
    amplitude=qubit.parameters.user_defined['amplitude_pi']
)

def T2Echo():
    exp = Experiment(
        uid="Spectroscopy",
        signals=[
            ExperimentSignal(uid="measure", map_to=lsg[qubit.uid]['measure_line']),
            ExperimentSignal(uid="acquire", map_to=lsg[qubit.uid]['acquire_line']),
            ExperimentSignal(uid="drive", map_to=lsg[qubit.uid]['drive_line'])
        ]
    )
    
    with exp.acquire_loop_rt(
        uid='shots',
        count=averages,
        averaging_mode=AveragingMode.CYCLIC,
        acquisition_type=AcquisitionType.INTEGRATION,
        reset_oscillator_phase=True
    ):
        with exp.sweep(
            uid='Delay_sweep',
            parameter=time_delay,
            alignment=SectionAlignment.RIGHT,
            reset_oscillator_phase=True
        ):
            with exp.section(uid='Play drive', alignment=SectionAlignment.RIGHT):
                exp.play(signal="drive", phase=0, pulse=x90)
                exp.delay('drive', time_delay/2)
                exp.play(signal="drive", phase=np.pi, pulse=y180)
                exp.delay('drive', time_delay/2)
                exp.play(signal='drive', phase=0, pulse=x90)
            with exp.section(
                uid="single_res_point_readout",
                play_after='Play drive',
            ):
                exp.play(
                    signal="measure",
                    pulse=readout_pulse)
                exp.acquire( 
                    signal='acquire',
                    handle='single_freq_data',
                    length=qubit.parameters.user_defined['readout_len'],
                    kernel=readout_pulse
                )
            with exp.section(uid="delay_between_readout", length=qubit.parameters.user_defined['time_domain_reset_length']):
                exp.reserve(signal="measure")
                exp.reserve(signal="drive")
    
    exp_calibration = Calibration()
    drive_osc = Oscillator(
        "drive_osc",
        frequency=qubit.parameters.drive_frequency_ge,
        modulation_type=ModulationType.HARDWARE)
    exp_calibration["drive"] = SignalCalibration(
        oscillator=drive_osc,)
    exp.set_calibration(exp_calibration)

    return exp
    
exp = T2Echo()x90 = pulse_library.gaussian_square(
    uid='x90',
    length=qubit.parameters.user_defined['pulse_length'],
    amplitude=qubit.parameters.user_defined['amplitude_pi/2']
)

y180 = pulse_library.gaussian_square(
    uid='y180',
    length=qubit.parameters.user_defined['pulse_length'],
    amplitude=qubit.parameters.user_defined['amplitude_pi']
)

def T2Echo():
    exp = Experiment(
        uid="Spectroscopy",
        signals=[
            ExperimentSignal(uid="measure", map_to=lsg[qubit.uid]['measure_line']),
            ExperimentSignal(uid="acquire", map_to=lsg[qubit.uid]['acquire_line']),
            ExperimentSignal(uid="drive", map_to=lsg[qubit.uid]['drive_line'])
        ]
    )
    
    with exp.acquire_loop_rt(
        uid='shots',
        count=averages,
        averaging_mode=AveragingMode.CYCLIC,
        acquisition_type=AcquisitionType.INTEGRATION,
        reset_oscillator_phase=True
    ):
        with exp.sweep(
            uid='Delay_sweep',
            parameter=time_delay,
            alignment=SectionAlignment.RIGHT,
            reset_oscillator_phase=True
        ):
            with exp.section(uid='Play drive', alignment=SectionAlignment.RIGHT):
                exp.play(signal="drive", phase=0, pulse=x90)
                exp.delay('drive', time_delay/2)
                exp.play(signal="drive", phase=np.pi, pulse=y180)
                exp.delay('drive', time_delay/2)
                exp.play(signal='drive', phase=0, pulse=x90)
            with exp.section(
                uid="single_res_point_readout",
                play_after='Play drive',
            ):
                exp.play(
                    signal="measure",
                    pulse=readout_pulse)
                exp.acquire( 
                    signal='acquire',
                    handle='single_freq_data',
                    length=qubit.parameters.user_defined['readout_len'],
                    kernel=readout_pulse
                )
            with exp.section(uid="delay_between_readout", length=qubit.parameters.user_defined['time_domain_reset_length']):
                exp.reserve(signal="measure")
                exp.reserve(signal="drive")
    
    exp_calibration = Calibration()
    drive_osc = Oscillator(
        "drive_osc",
        frequency=qubit.parameters.drive_frequency_ge,
        modulation_type=ModulationType.HARDWARE)
    exp_calibration["drive"] = SignalCalibration(
        oscillator=drive_osc,)
    exp.set_calibration(exp_calibration)

    return exp
    
exp = T2Echo()





session = Session(
    device_setup=device_setup,
    log_level = logging.WARNING,
    experiment=exp)
session.connect();
compiled_session = session.compile(exp);
# psv.interactive_psv(compiled_session, max_events_to_publish=100,)





results = session.run()
my_results = session.get_results() #a deep copy of session.results
my_acquired_results = my_results.acquired_results['single_freq_data'] #extracts data from the exp.acquire method with the same key name





IQ_data = my_acquired_results.data
amplitude = np.abs(IQ_data)
phase = np.unwrap(np.angle(IQ_data))
phase = phase-np.mean(phase)

fitting_plot_x = np.linspace(time_delay.start, time_delay.stop, 501)

try: popt_amp, pcov_amp = exponential_decay.fit(time_delay, amplitude, 1e6, 0 , 1)
except: pass

try: popt_phase, pcov_phase = exponential_decay.fit(time_delay, phase, 1e6, 0, 1) #decay rate, offset, amplitude
except: pass

fig, ax = plt.subplots(2, 1, figsize=(4,8))
ax[0].plot(time_delay*1e6, amplitude, '.k')
try: ax[0].plot(fitting_plot_x*1e6, exponential_decay(fitting_plot_x, *popt_amp), '-r')
except: pass
ax[0].set_title(f'{qubit.uid} T2 Echo')
ax[0].set_xlabel('Time Delay (us)')
ax[0].set_ylabel('Amplitude (a.u.)')
ax[0].grid()
ax[1].plot(time_delay*1e6, phase, '.k')
try: ax[1].plot(fitting_plot_x*1e6, exponential_decay(fitting_plot_x, *popt_phase), '-r')
except: pass
ax[1].set_title(f'{qubit.uid} T2 Echo')
ax[1].set_xlabel('Time Delay (us)')
ax[1].set_ylabel('Phase (a.u.)')
ax[1].grid()
fig.tight_layout()
try:
    print(f"Fitted parameters (amplitude): {popt_amp}")
    print('T2e time ' + str(1/popt_amp[0]*1e6) + ' us') 
except: pass
try:
    print(f"Fitted parameters (phase): {popt_phase}")
    print('T2e time ' + str(1/popt_phase[0]*1e6) + ' us') 
except: pass


IQ_data = my_acquired_results.data
amplitude = np.abs(IQ_data)
phase = np.unwrap(np.angle(IQ_data))
phase = phase-np.mean(phase)

fitting_plot_x = np.linspace(time_delay.start, time_delay.stop, 501)

try: popt_amp, pcov_amp = exponential_decay.fit(time_delay, amplitude, 1e6, 0 , 1)
except: pass

try: popt_phase, pcov_phase = exponential_decay.fit(time_delay, phase, 1e6, 0, 1) #decay rate, offset, amplitude
except: pass

fig, ax = plt.subplots(2, 1, figsize=(4,8))
ax[0].plot(time_delay, amplitude, '.k')
try: ax[0].plot(fitting_plot_x, exponential_decay(fitting_plot_x, *popt_amp), '-r')
except: pass
ax[0].set_title(f'{qubit.uid} T2 Echo')
ax[0].set_xlabel('Time Delay (s)')
ax[0].set_ylabel('Amplitude (a.u.)')
ax[0].grid()
ax[1].plot(time_delay, phase, '.k')
try: ax[1].plot(fitting_plot_x, exponential_decay(fitting_plot_x, *popt_phase), '-r')
except: pass
ax[1].set_title(f'{qubit.uid} T2 Echo')
ax[1].set_xlabel('Time Delay (s)')
ax[1].set_ylabel('Phase (a.u.)')
ax[1].grid()
fig.tight_layout()
try:
    print(f"Fitted parameters (amplitude): {popt_amp}")
    print('T2e time ' + str(1/popt_amp[0]*1e6) + ' us') 
except: pass
try:
    print(f"Fitted parameters (phase): {popt_phase}")
    print('T2e time ' + str(1/popt_phase[0]*1e6) + ' us') 
except: pass





def T2E_run():
    exp = T2Echo()
    session = Session(
        device_setup=device_setup,
        log_level = logging.WARNING,
        experiment=exp)
    session.connect();
    compiled_session = session.compile(exp);
    
    results = session.run()
    my_results = session.get_results() #a deep copy of session.results
    my_acquired_results = my_results.acquired_results['single_freq_data'] #extracts data from the exp.acquire method with the same key name
    
    IQ_data = my_acquired_results.data
    amplitude = np.abs(IQ_data)
    phase = np.unwrap(np.angle(IQ_data))
    phase = phase-np.mean(phase)
    
    fitting_plot_x = np.linspace(time_delay.start, time_delay.stop, 501)
    
    try:
        popt_amp, pcov_amp = exponential_decay.fit(time_delay, amplitude, 1e6, 0 , 1)
        print(f"Fitted Parameters (amplitude): {popt_amp}")
        print('T2e time ' + str(1/popt_amp[0]*1e6) + ' us')
        amp_t2e = popt_amp[0]
    except Exception as e:
        amp_t2e = None
    try:
        popt_phase, pcov_phase = exponential_decay.fit(time_delay, phase, 1e6, 0, 1) #decay rate, offset, amplitude
        print(f"Fitted Parameters (phase): {popt_phase}")
        print('T2e time ' + str(1/popt_phase[0]*1e6) + ' us')
        phase_t2e = popt_phase[0]
    except Exception as e: 
        phase_t2e = None
        
    return [amp_t2e, phase_t2e]


datetime_array, T2E_data = measure_data_stats(T2E_run, n_runs=300)


T2E_plotted = T2E_data[1,:]
stat_out(1/T2E_plotted*1e6, 'T2E')
plot_box_whisker_time_series(datetime_array, 1/T2E_plotted*1e6, 'T2E', time_interval_str='5min')





drive_lo_freq_sweep = LinearSweepParameter(
    uid='Drive_LO', start=1e9, stop=8e9, count=8)

drive_freq_sweep = LinearSweepParameter(
    uid='Drive_Frequency', start=-500e6, stop=498e6, count=500)

exp = Experiment(
    uid="Spectroscopy",
    signals=[
        ExperimentSignal(uid="measure", map_to=lsg[qubit.uid]['measure_line']),
        ExperimentSignal(uid="acquire", map_to=lsg[qubit.uid]['acquire_line']),
        ExperimentSignal(uid="drive", map_to=lsg[qubit.uid]['drive_line'])
    ]
)

with exp.sweep(
    uid='Sweep Drive LO',
    parameter=drive_lo_freq_sweep
):
    with exp.acquire_loop_rt(
        uid='shots',
        count=averages,
        averaging_mode=AveragingMode.CYCLIC,
        acquisition_type=AcquisitionType.INTEGRATION,
    ):
        with exp.sweep(
            uid='Drive Frequency Sweep',
            parameter=drive_freq_sweep,
        ):
            with exp.section(uid='Play drive'):
                exp.play(
                    signal="drive",
                    pulse=pulse_library.gaussian_square(
                    uid=f"drive_pulse_{qubit.uid}",
                    length=100e-9,
                    width=100e-9*0.9,
                    sigma=0.2,
                    marker = {"marker1": {"enable": True}}))
            with exp.section(
                uid="single_res_point_readout",
                play_after='Play drive',
            ):
                exp.play(
                    signal="measure",
                    pulse=readout_pulse)
                exp.acquire( #acquire on its own seems to be able to measure things, but not as well(?)
                    signal='acquire',
                    handle='single_freq_data',
                    length=qubit.parameters.user_defined['readout_len'],
                    kernel=readout_pulse #this is important to actually integrate against so the result is non-zero
                )
            with exp.section(uid="delay_between_readout", length=qubit.parameters.user_defined['reset_length']):
                exp.reserve(signal="measure")
                exp.reserve(signal="drive")

exp_calibration = Calibration()
drive_osc = Oscillator(
    "drive_osc",
    frequency=drive_freq_sweep,
    modulation_type=ModulationType.HARDWARE)
drive_lo = Oscillator(
    'drive_lo',
    frequency=drive_lo_freq_sweep,
    modulation_type=ModulationType.HARDWARE)
exp_calibration["drive"] = SignalCalibration(
    oscillator=drive_osc,
    local_oscillator=drive_lo)
exp.set_calibration(exp_calibration)


## Compile Session
Do final checks before running the job.


session = Session(
    device_setup=device_setup,
    log_level = logging.WARNING,
    experiment=exp)
session.connect();
compiled_session = session.compile(exp);
# psv.interactive_psv(compiled_session, max_events_to_publish=100,)





results = session.run()
my_results = session.get_results() #a deep copy of session.results
my_acquired_results = my_results.acquired_results['single_freq_data'] #extracts data from the exp.acquire method with the same key name





drive_lo_array = my_acquired_results.axis[0]
drive_AWG_freqs = my_acquired_results.axis[1]
drive_freqs = np.empty((0))
for drive_lo in drive_lo_array:
    drive_freqs = np.append(drive_freqs, drive_lo + drive_AWG_freqs,)


# For plotting current vs single resonator point
IQ_data = my_acquired_results.data.ravel()
amplitude = np.abs(IQ_data)
phase = np.angle(IQ_data)

fig, ax = plt.subplots(2,1, figsize=(8,6))
ax[0].plot(drive_freqs, amplitude)
ax[0].set_title(f'{qubit.uid} Spectrum')
ax[0].set_xlabel('Frequency (GHz)')
ax[0].set_ylabel('Amplitude')
ax[0].grid()
ax[1].plot(drive_freqs, phase)
ax[1].set_title(f'{qubit.uid} Spectrum')
ax[1].set_xlabel('Drive Frequency (GHz)')
ax[1].set_ylabel('Phase')
ax[1].grid()
fig.tight_layout()








fast_flux_array = np.asarray([[0.5,0],[1,0],[0.5,0]])
fast_flux_pulse = pulse_library.sampled_pulse(samples=fast_flux_array, uid='Fast_Flux_Pulse')
print(fast_flux_array.shape) #first column is I data, second is Q (and the Q appears as neg of entered value. If phase doesn't matter, just do I)
fast_flux_pulse


def create_arbitrary_pulse(fname: str, uid: str) -> laboneq.dsl.experiment.pulse.PulseSampled:
    '''Takes in a .csv file and outputs a pulse that has the same shape as the csv file sample-wise (typ. 0.5ns).
    
    This should be a two column array from -1 to 1 for each column, specifying the pulse shape.
    First column is for I values, second is for Q. Note Q intensity on pulse sheet will have additional negative sign.
    '''
    array = np.loadtxt(fname, delimeter=',')
    pulse = pulse_library.sampled_pulse(samples=array, uid=uid)
    return pulse


delay_time=2e-9 #this is the time after the start of the flux pulse at which the drive line starts playing

x90 = pulse_library.gaussian_square(
    uid='x90',
    length=qubit.parameters.user_defined['pulse_length'],
    amplitude=qubit.parameters.user_defined['amplitude_pi/2']
)

def fast_flux_pulse_exp():
    exp = Experiment(
        uid="Spectroscopy",
        signals=[
            ExperimentSignal(uid="measure", map_to=lsg[qubit.uid]['measure_line']),
            ExperimentSignal(uid="acquire", map_to=lsg[qubit.uid]['acquire_line']),
            ExperimentSignal(uid="drive", map_to=lsg[qubit.uid]['drive_line']),
            ExperimentSignal(uid="flux", map_to=lsg[qubit.uid]['flux_drive_line'])
        ]
    )
    with exp.acquire_loop_rt(
        uid='shots',
        count=averages,
        averaging_mode=AveragingMode.CYCLIC,
        acquisition_type=AcquisitionType.INTEGRATION,
        reset_oscillator_phase=True
    ):
        with exp.section(uid='Fast Flux Pulse',):
            exp.play(signal='flux', pulse=fast_flux_pulse)
            exp.delay(signal='drive', time=delay_time)
            exp.play(signal='drive', pulse=x90)
        with exp.section(uid="single_res_point_readout", play_after='Fast Flux Pulse'):
            exp.play(signal="measure", pulse=readout_pulse)
            exp.acquire(signal='acquire', handle='single_freq_data', length=qubit.parameters.user_defined['readout_len'], kernel=readout_pulse)
        with exp.section(uid="delay_between_readout", length=qubit.parameters.user_defined['time_domain_reset_length']):
            exp.reserve(signal="measure")
            exp.reserve(signal="drive")

    exp_calibration = Calibration()
    drive_osc = Oscillator(
        "drive_osc",
        frequency=qubit.parameters.drive_frequency_ge,
        modulation_type=ModulationType.HARDWARE)
    exp_calibration["drive"] = SignalCalibration(
        oscillator=drive_osc,)
    exp.set_calibration(exp_calibration)

    return exp
    
exp = fast_flux_pulse_exp()





session = Session(
    device_setup=device_setup,
    log_level = logging.WARNING,
    experiment=exp)
session.connect();
compiled_session = session.compile(exp);
psv.interactive_psv(compiled_session, max_events_to_publish=100,)





results = session.run()
my_results = session.get_results() #a deep copy of session.results
my_acquired_results = my_results.acquired_results['single_freq_data'] #extracts data from the exp.acquire method with the same key name



