





from pathlib import Path
import datetime
from datetime import date
import pandas as pd
import time
import sys
import os
import matplotlib.pyplot as plt
import numpy as np
import sys
import logging
import math as m
import statistics as stat

from qcodes.instrument_drivers.yokogawa.GS200 import GS200

from laboneq.simple import *
import laboneq.pulse_sheet_viewer.pulse_sheet_viewer as psv
from laboneq.contrib.example_helpers.plotting.plot_helpers import plot_simulation
from laboneq.contrib.example_helpers.descriptors.shfsg_shfqa_pqsc import (
    descriptor_shfsg_shfqa_pqsc,
)
from laboneq.analysis.fitting import (
    lorentzian,
    oscillatory,
    oscillatory_decay,
    exponential_decay,
)





# Just be careful about the drive lines.
descriptor_shfqc = """
instruments:
  SHFQC:
  - address: DEV12195
    uid: device_shfqc
    interface: 1gbe
    options: SHFQC/PLUS/QC6CH

connections:
  device_shfqc:
    - iq_signal: T1/drive_line
      ports: SGCHANNELS/3/OUTPUT
    
    - iq_signal: T1/measure_line
      ports: [QACHANNELS/0/OUTPUT]
    - acquire_signal: T1/acquire_line
      ports: [QACHANNELS/0/INPUT]
      
    - iq_signal: T0/drive_line
      ports: SGCHANNELS/1/OUTPUT

    - iq_signal: T0/measure_line
      ports: [QACHANNELS/0/OUTPUT]
    - acquire_signal: T0/acquire_line
      ports: [QACHANNELS/0/INPUT]
      
    - iq_signal: F0/drive_line
      ports: SGCHANNELS/3/OUTPUT
      
    - iq_signal: F0/measure_line
      ports: [QACHANNELS/0/OUTPUT]
    - acquire_signal: F0/acquire_line
      ports: [QACHANNELS/0/INPUT]
      
    - iq_signal: F1/drive_line
      ports: SGCHANNELS/1/OUTPUT
      
    - iq_signal: F1/measure_line
      ports: [QACHANNELS/0/OUTPUT]
    - acquire_signal: F1/acquire_line
      ports: [QACHANNELS/0/INPUT]
    
    - iq_signal: GKP1/drive_line
      ports: SGCHANNELS/0/OUTPUT

    - iq_signal: GKP1/measure_line
      ports: [QACHANNELS/0/OUTPUT]
    - acquire_signal: GKP1/acquire_line
      ports: [QACHANNELS/0/INPUT]

    - iq_signal: GKP2/drive_line
      ports: SGCHANNELS/1/OUTPUT

    - iq_signal: GKP2/measure_line
      ports: [QACHANNELS/0/OUTPUT]
    - acquire_signal: GKP2/acquire_line
      ports: [QACHANNELS/0/INPUT]
      
    - iq_signal: GKP3/drive_line
      ports: SGCHANNELS/0/OUTPUT

    - iq_signal: GKP3/measure_line
      ports: [QACHANNELS/0/OUTPUT]
    - acquire_signal: GKP3/acquire_line
      ports: [QACHANNELS/0/INPUT]
      
"""





# Define and Load our Device Setup
device_setup = DeviceSetup.from_descriptor(
    yaml_text=descriptor_shfqc, # the yaml gives the full description of the logical signal layout
    server_host="localhost",  # ip address of the LabOne dataserver used to communicate with the instruments
    server_port="8004",  # port number of the dataserver - default is 8004
    setup_name="my_setup",  # setup name
)

# define shortcut to logical signals for convenience
lsg = {
    qubit_name: device_setup.logical_signal_groups[qubit_name].logical_signals
    for qubit_name in device_setup.logical_signal_groups.keys()
}





T0 = Transmon.from_logical_signal_group(
    uid='T0',
    lsg=device_setup.logical_signal_groups['T0'],
    parameters=TransmonParameters(
        readout_resonator_frequency=6.399e9,
        readout_lo_ferquency=6.4e9,
        resonance_frequency_ge=4e9, #UNSET -- NEED TO MEASURE
        drive_lo_frequency=4e9, #UNSET -- NEED TO MEASURE
        readout_integration_delay=95e-9, #REQUIRES FURTHER CALIBRATION
        readout_range_out=-10,
        drive_range=0,
        readout_range_in=5, #REQUIRES UNDERSTANDING WHY BELOW 5 ALWAYS CAUSES OVERLOADING!
        user_defined={
            'pulse_length': 50e-9,
            'readout_len': 2e-6, #MAY BE ABLE TO EEK THIS A BIT LONGER(?)
            'time_domain_reset_length': 200e-9,
            'cw_reset_length': 5e-9,
            'readout_amp': None,
            'amplitude_pi': None,
        }
    )
)

T1 = Transmon.from_logical_signal_group(
    uid='T1',
    lsg=device_setup.logical_signal_groups['T1'],
    parameters=TransmonParameters(
        readout_resonator_frequency=6.562e9,
        readout_lo_ferquency=6.4e9,
        resonance_frequency_ge=4e9, #UNSET -- NEED TO MEASURE
        drive_lo_frequency=4e9, #UNSET -- NEED TO MEASURE
        readout_integration_delay=95e-9, #REQUIRES FURTHER CALIBRATION
        readout_range_out=-10,
        drive_range=0,
        readout_range_in=5, #REQUIRES UNDERSTANDING WHY BELOW 5 ALWAYS CAUSES OVERLOADING!
        user_defined={
            'pulse_length': 50e-9,
            'readout_len': 2e-6, #MAY BE ABLE TO EEK THIS A BIT LONGER(?)
            'time_domain_reset_length': 200e-9,
            'cw_reset_length': 5e-9,
            'readout_amp': None,
            'amplitude_pi': None,
        }
    )
)

F0 = Transmon.from_logical_signal_group(
    uid='F0',
    lsg=device_setup.logical_signal_groups['F0'],
    parameters=TransmonParameters(
        readout_resonator_frequency=6.736e9,
        readout_lo_ferquency=6.8e9,
        resonance_frequency_ge=4e9, #UNSET -- NEED TO MEASURE
        drive_lo_frequency=4e9, #UNSET -- NEED TO MEASURE
        readout_integration_delay=95e-9, #REQUIRES FURTHER CALIBRATION
        readout_range_out=-10,
        drive_range=0,
        readout_range_in=5, #REQUIRES UNDERSTANDING WHY BELOW 5 ALWAYS CAUSES OVERLOADING!
        user_defined={
            'pulse_length': 50e-9,
            'readout_len': 2e-6, #MAY BE ABLE TO EEK THIS A BIT LONGER(?)
            'time_domain_reset_length': 200e-9,
            'cw_reset_length': 5e-9,
            'readout_amp': None,
            'amplitude_pi': None,
            'current_sweetspot': None,
            'current_setpoint': None,
        }
    )
)

F1 = Transmon.from_logical_signal_group(
    uid='F1',
    lsg=device_setup.logical_signal_groups['F1'],
    parameters=TransmonParameters(
        readout_resonator_frequency=6.866e9,
        readout_lo_ferquency=6.8e9,
        resonance_frequency_ge=4e9, #UNSET -- NEED TO MEASURE
        drive_lo_frequency=4e9, #UNSET -- NEED TO MEASURE
        readout_integration_delay=95e-9, #REQUIRES FURTHER CALIBRATION
        readout_range_out=-10,
        drive_range=0,
        readout_range_in=5, #REQUIRES UNDERSTANDING WHY BELOW 5 ALWAYS CAUSES OVERLOADING!
        user_defined={
            'pulse_length': 50e-9,
            'readout_len': 2e-6, #MAY BE ABLE TO EEK THIS A BIT LONGER(?)
            'time_domain_reset_length': 200e-9,
            'cw_reset_length': 5e-9,
            'readout_amp': None,
            'amplitude_pi': None,
            'current_sweetspot': None,
            'current_setpoint': None,
        }
    )
)

C2PHI = Transmon.from_logical_signal_group(
    uid='C2PHI',
    lsg=device_setup.logical_signal_groups['C2PHI'],
    parameters=TransmonParameters(
        readout_resonator_frequency=7.1e9,
        readout_lo_ferquency=7e9,
        resonance_frequency_ge=4e9, #UNSET -- NEED TO MEASURE
        drive_lo_frequency=4e9, #UNSET -- NEED TO MEASURE
        readout_integration_delay=95e-9, #REQUIRES FURTHER CALIBRATION
        readout_range_out=-10,
        drive_range=0,
        readout_range_in=5, #REQUIRES UNDERSTANDING WHY BELOW 5 ALWAYS CAUSES OVERLOADING!
        user_defined={
            'pulse_length': 50e-9,
            'readout_len': 2e-6, #MAY BE ABLE TO EEK THIS A BIT LONGER(?)
            'time_domain_reset_length': 200e-9,
            'cw_reset_length': 5e-9,
            'readout_amp': None,
            'amplitude_pi': None,
            'current_sweetspot': None,
            'current_setpoint': None,
        }
    )
)

HGKP = Transmon.from_logical_signal_group(
    uid='HGKP',
    lsg=device_setup.logical_signal_groups['HGKP'],
    parameters=TransmonParameters(
        readout_resonator_frequency=7.2796e9,
        readout_lo_ferquency=7.2e9,
        resonance_frequency_ge=4e9, #UNSET -- NEED TO MEASURE
        drive_lo_frequency=4e9, #UNSET -- NEED TO MEASURE
        readout_integration_delay=95e-9, #REQUIRES FURTHER CALIBRATION
        readout_range_out=-10,
        drive_range=0,
        readout_range_in=5, #REQUIRES UNDERSTANDING WHY BELOW 5 ALWAYS CAUSES OVERLOADING!
        user_defined={
            'pulse_length': 50e-9,
            'readout_len': 2e-6, #MAY BE ABLE TO EEK THIS A BIT LONGER(?)
            'time_domain_reset_length': 200e-9,
            'cw_reset_length': 5e-9,
            'readout_amp': None,
            'amplitude_pi': None,
            'current_sweetspot': None,
            'current_setpoint': None,
        }
    )
)

SGKP = Transmon.from_logical_signal_group(
    uid='SGKP',
    lsg=device_setup.logical_signal_groups['SGKP'],
    parameters=TransmonParameters(
        readout_resonator_frequency=7.464e9,
        readout_lo_ferquency=7.4e9,
        resonance_frequency_ge=4e9, #UNSET -- NEED TO MEASURE
        drive_lo_frequency=4e9, #UNSET -- NEED TO MEASURE
        readout_integration_delay=95e-9, #REQUIRES FURTHER CALIBRATION
        readout_range_out=-10,
        drive_range=0,
        readout_range_in=5, #REQUIRES UNDERSTANDING WHY BELOW 5 ALWAYS CAUSES OVERLOADING!
        user_defined={
            'pulse_length': 50e-9,
            'readout_len': 2e-6, #MAY BE ABLE TO EEK THIS A BIT LONGER(?)
            'time_domain_reset_length': 200e-9,
            'cw_reset_length': 5e-9,
            'readout_amp': None,
            'amplitude_pi': None,
            'current_sweetspot': None,
            'current_setpoint': None,
        }
    )
)

qubit=T0 #Defines which qubit we are actually doing all the measuring of. Important.
averages=2**10
device_setup.set_calibration(qubit.calibration()) #This sets the settings defined in the qubit params

readout_pulse = pulse_library.gaussian_square(
    uid=f"readout_pulse_{qubit.uid}",
    length=qubit.parameters.user_defined['readout_len'],
    amplitude=qubit.parameters.user_defined['readout_amp'],
    width=qubit.parameters.user_defined['readout_len']*0.9,
    sigma=0.2,)

# device_setup.get_calibration() #Here for checking if all the calibration went well.





try:
    dc = GS200('yoko_right', address = 'TCPIP0::192.168.4.157::inst0::INSTR')
except Exception as e:
    print(e)

try:
    coil= GS200('yoko_left', address = 'TCPIP0::192.168.4.208::inst0::INSTR')
except Exception as e:
    print(e)


# dc.BNC_out.set('ready') # this sets a low signal signaure right after the move has been completed
# dc.BNC_out.get()
# dc.ramp_current(0e-3, 1e-6,0.02)
# dc.output('off')
# dc.source_mode('CURR')
dc.ramp_current(0e-3, 1e-6,0.02)
dc.output('on')
dc.current_range(0.01)

# coil.BNC_out.set('ready') # this sets a low signal signature right after the move has been completed
# coil.BNC_out.get()
# coil.ramp_current(0e-3, 1e-6,0.02)
# coil.output('off')
# coil.source_mode('CURR')
coil.ramp_current(0e-3, 1e-6,0.02)
coil.output('on')
coil.current_range(0.01)

# dc.current.get()
# coil.current.get()


coil.ramp_current(465e-6, 1e-6, 0.01)








def plot_box_whisker_time_series(datetime_array, float_array, t_type_str: str, time_interval_str='2min'):
    # Convert arrays to pandas DataFrame
    data = pd.DataFrame({'time': datetime_array, 'value': float_array})
    
    # Set the datetime column as index
    data.set_index('time', inplace=True)
    
    # Resample the data in 10-minute intervals and aggregate into lists
    data_10min = data.resample(time_interval_str).apply(list) #change this to change the re-sampling times and such
    
    # Drop intervals with no data
    data_10min.dropna(inplace=True)
    
    # Prepare data for plotting
    time_labels = data_10min.index
    float_data_per_interval = data_10min['value']
    
    # Create boxplot
    plt.figure(figsize=(16, 6))
    plt.boxplot(float_data_per_interval, positions=range(len(time_labels)), widths=0.7)
    
    # Customize x-axis with datetime labels
    plt.xticks(ticks=range(len(time_labels)), labels=time_labels.strftime('%H:%M'), rotation=45)
    plt.xlabel('Time (Intervals)')
    plt.ylabel(f'{t_type_str} (us)')
    plt.title(f'{t_type_str} Times over Time')
    
    plt.tight_layout()
    plt.show()

def measure_data_stats(T_run, data_points):
    fit_out = np.empty(data_points)
    datetime_array = np.empty((data_points), dtype=datetime.datetime)
    for i in range(data_points):
        try:
            t_data, _ = T_run()
            print(i+1, 1/t_data*1e6)
        except:
            t_data = None
            print('t_data failed')
        datetime_array[i] = datetime.datetime.now()
        fit_out[i] = t_data
    return [datetime_array, fit_out]

def stat_out(data, t_type_str: str):
    mean = np.mean(data)
    std = np.std(data)
    print(t_type_str, ' = ', str(mean), '+/-', str(std))
    return [mean, std]





def change_dc_current(session, new_current, step_time):
    dc.ramp_current(new_current, 10e-6, step_time)
    # print("DC Current " + str(new_current))

def change_coil_current(session, new_current, step_time):
    coil.ramp_current(new_current, 1e-6, step_time)
    print("Current coil current: " + str(new_current))
    
def sweep_progress(session, linearsweepparameter):
    print(str(linearsweepparameter.count))





# Is now working now that there is a kernel for the integration (in integration mode). For ease, I am having the kernel be the same as the applied drive pulse.
exp = Experiment(
    uid="Single Point Readout",
    signals=[
        ExperimentSignal(uid="measure", map_to=lsg[qubit.uid]['measure_line']),
        ExperimentSignal(uid="acquire", map_to=lsg[qubit.uid]['acquire_line']),
        ExperimentSignal(uid="drive", map_to=lsg[qubit.uid]['drive_line'])
    ]
)

with exp.acquire_loop_rt(
    uid='shots',
    count=averages,
    averaging_mode=AveragingMode.CYCLIC,
    acquisition_type=AcquisitionType.INTEGRATION,
):
    with exp.section(uid="Pulsed Single Frequency Readout"):
        exp.play(
            signal="measure",
            pulse=readout_pulse
        )
        exp.acquire( #acquire on its own seems to be able to measure things, but not as well(?)
            signal='acquire',
            handle='single_freq_data',
            length=qubit.parameters.user_defined['readout_len'],
            kernel=readout_pulse #this is important to actually integrate against so the result is non-zero
        )
    with exp.section(uid="delay_between_readout", length=qubit.parameters.user_defined['reset_length']):
        exp.reserve(signal='measure')





session = Session(
    device_setup=device_setup,
    log_level = logging.WARNING,
    experiment=exp)
session.connect(use_async_api=True);
compiled_session = session.compile(exp);
# psv.interactive_psv(compiled_session, max_events_to_publish=10000,)





results = session.run()
my_results = session.get_results() #a deep copy of session.results
my_acquired_results = my_results.acquired_results['single_freq_data'] #extracts data from the exp.acquire method with the same key name





# Just one data point... so not much to see here...
print(np.abs(my_acquired_results.data))
my_acquired_results





# Full frequency span for readout resonator
readout_lo_freq_sweep = LinearSweepParameter(
    uid='Readout_LO', start=4e9, stop=8e9, count=5)

readout_freq_sweep = LinearSweepParameter(
    uid='Readout_Frequency', start=-500e6, stop=495e6, count=101)

exp = Experiment(
    uid="Resonator Trace",
    signals=[
        ExperimentSignal(uid="measure", map_to=lsg[qubit.uid]['measure_line']),
        ExperimentSignal(uid="acquire", map_to=lsg[qubit.uid]['acquire_line']),
        ExperimentSignal(uid="drive", map_to=lsg[qubit.uid]['drive_line'])
    ]
)
with exp.sweep(
    uid='Readout LO Frequency Sweep',
    parameter=readout_lo_freq_sweep
):
    with exp.acquire_loop_rt(
        uid='shots',
        count=averages,
        averaging_mode=AveragingMode.CYCLIC,
        acquisition_type=AcquisitionType.SPECTROSCOPY,
    ):
        with exp.sweep(
            uid='Readout Frequency Sweep',
            parameter=readout_freq_sweep,
            reset_oscillator_phase=True
        ):
            with exp.section(uid="Pulsed Single Frequency Readout"):
                exp.play(
                    signal="measure",
                    pulse=readout_pulse
                )
                exp.acquire( #acquire on its own seems to be able to measure things, but not as well(?)
                    signal='acquire',
                    handle='single_freq_data',
                    length=qubit.parameters.user_defined['readout_len'],
                )
            with exp.section(uid="delay_between_readout", length=qubit.parameters.user_defined['reset_length']):
                exp.reserve(signal="measure")

exp_calibration = Calibration()
readout_osc = Oscillator(
    "readout_osc",
    frequency=readout_freq_sweep,
    modulation_type=ModulationType.HARDWARE)
readout_lo = Oscillator(
    "readout_lo",
    frequency=readout_lo_freq_sweep,
    modulation_type=ModulationType.HARDWARE)
exp_calibration["measure"] = SignalCalibration(
    oscillator=readout_osc,
    local_oscillator=readout_lo)
exp_calibration["acquire"] = SignalCalibration(
    oscillator=readout_osc,
    local_oscillator=readout_lo)
exp.set_calibration(exp_calibration)





session = Session(
    device_setup=device_setup,
    log_level = logging.WARNING,
    experiment=exp)
session.connect(use_async_api=True);
compiled_session = session.compile(exp);
# psv.interactive_psv(compiled_session, max_events_to_publish=10000,)





results = session.run()
my_results = session.get_results() #a deep copy of session.results
my_acquired_results = my_results.acquired_results['single_freq_data'] #extracts data from the exp.acquire method with the same key name





lo_array = my_acquired_results.axis[0]
AWG_freqs = my_acquired_results.axis[1]
freqs = np.empty((0))
for lo in lo_array:
    freqs = np.append(freqs, lo + AWG_freqs,)


# For plotting current vs single resonator point
IQ_data = my_acquired_results.data.ravel()
amplitude = np.abs(IQ_data)
phase = np.angle(IQ_data)

fig, ax = plt.subplots(2,1, figsize=(8,6))
ax[0].plot(freqs, amplitude)
ax[0].set_title('Wide Range Pulsed Trace')
ax[0].set_xlabel('Frequency (GHz)')
ax[0].set_ylabel('Amplitude (a.u.)')
ax[1].plot(freqs, phase)
ax[1].set_title('Wide Range Pulsed Trace')
ax[1].set_xlabel('Frequency (GHz)')
ax[1].set_ylabel('Phase')
fig.tight_layout()





lo_freq_offset = qubit.parameters.readout_resonator_frequency-qubit.parameters.readout_lo_frequency

ro_frequency_sweep = LinearSweepParameter(
    uid='Readout_Frequency_Sweep',
    start=lo_freq_offset-5e6,
    stop=lo_freq_offset+5e6,
    count=101)

exp = Experiment(
    uid="Resonator Trace",
    signals=[
        ExperimentSignal(uid="measure", map_to=lsg[qubit.uid]['measure_line']),
        ExperimentSignal(uid="acquire", map_to=lsg[qubit.uid]['acquire_line']),
        ExperimentSignal(uid="drive", map_to=lsg[qubit.uid]['drive_line'])
    ]
)

with exp.acquire_loop_rt(
    uid='shots',
    count=averages,
    averaging_mode=AveragingMode.CYCLIC,
    acquisition_type=AcquisitionType.SPECTROSCOPY,
):
    with exp.sweep(
        uid='Readout Frequency Sweep',
        parameter=ro_frequency_sweep,
        reset_oscillator_phase=True
    ):
        with exp.section(uid="Pulsed Single Frequency Readout"):
            exp.play(
                signal="measure",
                pulse=readout_pulse
            )
            exp.acquire( #acquire on its own seems to be able to measure things, but not as well(?)
                signal='acquire',
                handle='single_freq_data',
                length=qubit.parameters.user_defined['readout_len'],
            )
        with exp.section(uid="delay_between_readout", length=qubit.parameters.user_defined['reset_length']):
            exp.reserve(signal="measure")

exp_calibration = Calibration()
readout_osc = Oscillator(
    "readout_osc",
    frequency=ro_frequency_sweep,
    modulation_type=ModulationType.HARDWARE,)
exp_calibration["measure"] = SignalCalibration(
    oscillator=readout_osc)
exp_calibration["acquire"] = SignalCalibration(
    oscillator=readout_osc,)
exp.set_calibration(exp_calibration)





session = Session(
    device_setup=device_setup,
    log_level = logging.WARNING,
    experiment=exp)
session.connect(use_async_api=True);
compiled_session = session.compile(exp);
# psv.interactive_psv(compiled_session, max_events_to_publish=10000,)





results = session.run()
my_results = session.get_results() #a deep copy of session.results
my_acquired_results = my_results.acquired_results['single_freq_data'] #extracts data from the exp.acquire method with the same key name





# For plotting current vs single resonator point
freqs = my_acquired_results.axis[0] + qubit.parameters.readout_lo_frequency
IQ_data = my_acquired_results.data
amplitude = np.abs(IQ_data)
phase = np.angle(IQ_data)

fig, ax = plt.subplots(2,1, figsize=(8,6))
ax[0].plot(freqs, amplitude)
ax[0].set_title(f'{qubit.uid} Near Resonator Pulsed Trace')
ax[0].set_xlabel('Frequency (GHz)')
ax[0].set_ylabel('Amplitude (a.u.)')
ax[0].grid()
ax[1].plot(freqs, phase)
ax[1].set_title(f'{qubit.uid} Near Resonator Pulsed Trace')
ax[1].set_xlabel('Frequency (GHz)')
ax[1].set_ylabel('Phase')
ax[1].grid()
fig.tight_layout()
ax[0].vlines(qubit.parameters.readout_resonator_frequency, np.min(amplitude), np.max(amplitude), colors='r');
ax[1].vlines(qubit.parameters.readout_resonator_frequency, -3, 3, colors='r');





#Note this is a power sweep of the pulse amplitude, not of powers! The conversion from amplitude to powers is squared.
lo_freq_offset = qubit.parameters.readout_resonator_frequency-qubit.parameters.readout_lo_frequency

readout_pulse_punchout = pulse_library.gaussian_square(
    uid=f"readout_pulse_{qubit.uid}",
    length=qubit.parameters.user_defined['readout_len'],
    amplitude=1,
    width=qubit.parameters.user_defined['readout_len']*0.9,
    sigma=0.2,)

ro_frequency_sweep = LinearSweepParameter(
    uid='Readout_Frequency_Sweep',
    start=lo_freq_offset-9e6,
    stop=lo_freq_offset+9e6,
    count=51) 

power_sweep = SweepParameter(
    uid='Readout_Power', values=np.logspace(start=-2,stop=0,num=20,base=10))

exp = Experiment(
    uid="Punchout",
    signals=[
        ExperimentSignal(uid="measure", map_to=lsg[qubit.uid]['measure_line']),
        ExperimentSignal(uid="acquire", map_to=lsg[qubit.uid]['acquire_line']),
        ExperimentSignal(uid="drive", map_to=lsg[qubit.uid]['drive_line'])
    ]
)

with exp.sweep(
    uid='Power sweep',
    parameter=power_sweep,
):
    with exp.acquire_loop_rt(
        uid='shots',
        count=averages,
        averaging_mode=AveragingMode.CYCLIC,
        acquisition_type=AcquisitionType.SPECTROSCOPY,
    ):
    
        with exp.sweep(
            uid='Readout_Frequency_Sweep',
            parameter=ro_frequency_sweep,
            reset_oscillator_phase=True
        ):
            with exp.section(uid="single_res_point_readout"):
                exp.play(
                    signal="measure",
                    pulse=readout_pulse_punchout,
                    amplitude=power_sweep,
                )
                exp.acquire(
                    signal='acquire',
                    handle='single_freq_data',
                    length=qubit.parameters.user_defined['readout_len'],
                )
            with exp.section(uid="delay_between_readout", length=qubit.parameters.user_defined['reset_length']):
                exp.reserve(signal="measure")

exp_calibration = Calibration()
readout_osc = Oscillator(
    "readout_osc",
    frequency=ro_frequency_sweep,
    modulation_type=ModulationType.HARDWARE)
exp_calibration["measure"] = SignalCalibration(
    oscillator=readout_osc,)
exp_calibration["acquire"] = SignalCalibration(
    oscillator=readout_osc,)
exp.set_calibration(exp_calibration)





session = Session(
    device_setup=device_setup,
    log_level = logging.WARNING,
    experiment=exp)
session.connect(use_async_api=True);
compiled_session = session.compile(exp);
# psv.interactive_psv(compiled_session, max_events_to_publish=100,)





results = session.run()
my_results = session.get_results() #a deep copy of session.results
my_acquired_results = my_results.acquired_results['single_freq_data'] #extracts data from the exp.acquire method with the same key name





# For plotting punchout
IQ_data = my_acquired_results.data
phase_data = np.angle(IQ_data)
normalized_amp_data = np.divide(np.abs(IQ_data).T, np.mean(np.abs(IQ_data), axis=1))
normalized_dB_data = np.log10(normalized_amp_data)

amplitude = my_acquired_results.axis[0]
power = 10*np.log10(amplitude**2)+qubit.parameters.readout_range_out

RO_freqs = my_acquired_results.axis[1]+qubit.parameters.readout_lo_frequency

graphing_data = normalized_dB_data #could be the phase_data too
fig, ax = plt.subplots(1,2, figsize=(9,6))
cmap0 = ax[0].pcolor(amplitude,
             RO_freqs,
             graphing_data,
             shading='nearest')
ax[0].set_title(f'{qubit.uid} Punchout of Resonator (Pulse Amplitude)')
ax[0].set_xlabel('Pulse Amplitude')
ax[0].set_ylabel('Readout Frequency (GHz)')
ax[0].set_xscale('log')
cmap1 = ax[1].pcolor(power,
             RO_freqs,
             graphing_data,
             shading='nearest',
             vmin=-0.6,
             vmax=0.2,)
fig.colorbar(cmap0, ax=ax[0])
fig.colorbar(cmap1, ax=ax[1])
ax[1].set_title(f'{qubit.uid} Punchout of Resonator (dBm)')
ax[1].set_xlabel('dBm')
ax[1].set_ylabel('Readout Frequency (GHz)')
fig.tight_layout()





dc_sweep_param = LinearSweepParameter(
    uid='DC Current', start=0e-6, stop=4e-6, count=5)

coil_sweep_param = LinearSweepParameter(
    uid='Coil Current', start=-300e-6, stop=300e-6, count=101)


# This one is a direct copy of my working spectroscopy scan but now includes a 1D resonator sweep.
lo_freq_offset = qubit.parameters.readout_resonator_frequency-qubit.parameters.readout_lo_frequency

ro_frequency_sweep = LinearSweepParameter(
    uid='Readout_Frequency_Sweep',
    start=lo_freq_offset-3e6,
    stop=lo_freq_offset+3e6,
    count=101) #NOTE! This is the frequency offset from the LO. Need better integration for ease of use.

dc_sweep_param = LinearSweepParameter(
    uid='DC Current', start=-300e-6, stop=300e-6, count=201)

coil_sweep_param = LinearSweepParameter(
    uid='Coil Current', start=250e-6, stop=650e-6, count=201)

current_sweep_param = coil_sweep_param #Simply change coil_sweep_param to dc_sweep param for dc sweep.

exp = Experiment(
    uid="1D Current vs Resonator",
    signals=[
        ExperimentSignal(uid="measure", map_to=lsg[qubit.uid]['measure_line']),
        ExperimentSignal(uid="acquire", map_to=lsg[qubit.uid]['acquire_line']),
        ExperimentSignal(uid="drive", map_to=lsg[qubit.uid]['drive_line'])
    ]
)

with exp.sweep(
    uid="Yoko Sweep",
    parameter=current_sweep_param,
    execution_type=ExecutionType.NEAR_TIME,
):
    exp.call('change_current', new_current=current_sweep_param, step_time=0.01) 
    with exp.acquire_loop_rt(
        uid='shots',
        count=averages,
        averaging_mode=AveragingMode.CYCLIC,
        acquisition_type=AcquisitionType.SPECTROSCOPY,
    ):
        with exp.sweep(
                uid='Readout Resonator Frequency Sweep',
                parameter=ro_frequency_sweep,
                reset_oscillator_phase=True
            ):
                with exp.section(uid="Pulsed Single Frequency Readout"):
                    exp.play(
                        signal="measure",
                        pulse=readout_pulse
                    )
                    exp.acquire( #acquire on its own seems to be able to measure things, but not as well(?)
                        signal='acquire',
                        handle='single_freq_data',
                        length=qubit.parameters.user_defined['readout_len'],
                    )
                with exp.section(uid="delay_between_readout", length=qubit.parameters.user_defined['reset_length']):
                    exp.reserve(signal="measure")

exp_calibration = Calibration()
readout_osc = Oscillator(
    "readout_osc",
    frequency=ro_frequency_sweep,
    modulation_type=ModulationType.HARDWARE)
exp_calibration["measure"] = SignalCalibration(
    oscillator=readout_osc,)
exp_calibration["acquire"] = SignalCalibration(
    oscillator=readout_osc)
exp.set_calibration(exp_calibration)





session = Session(
    device_setup=device_setup,
    log_level = logging.WARNING,
    experiment=exp)
session.connect(use_async_api=True);
session.register_neartime_callback(change_dc_current, 'change_current')
session.register_neartime_callback(change_coil_current, 'change_current')
compiled_session = session.compile(exp);
# psv.interactive_psv(compiled_session, max_events_to_publish=10000,)





results = session.run()
my_results = session.get_results() #a deep copy of session.results
my_acquired_results = my_results.acquired_results['single_freq_data'] #extracts data from the exp.acquire method with the same key name





# For plotting 1D flux sweep
amplitude = np.abs(my_acquired_results.data)
phase = np.angle(my_acquired_results.data)
currents = my_acquired_results.axis[0]*1e6
freqs = my_acquired_results.axis[1] + qubit.parameters.readout_lo_frequency

fig, ax = plt.subplots(1,2, figsize=(15,6))
cmap0 = ax[0].pcolor(currents,
             freqs,
             amplitude.T,
             shading='nearest')
ax[0].set_title(f'{qubit.uid} Resonator Current Response')
ax[0].set_xlabel('Currents (uA)')
ax[0].set_ylabel('Readout Frequency (GHz)')
cmap1 = ax[1].pcolor(currents,
             freqs,
             phase.T,
             shading='nearest',)
fig.colorbar(cmap0, ax=ax[0])
fig.colorbar(cmap1, ax=ax[1])
ax[1].set_title(f'{qubit.uid} Resonator Current Response')
ax[1].set_xlabel('Currents (uA)')
ax[1].set_ylabel('Readout Frequency (GHz)')
fig.tight_layout()





dc_sweep_param = LinearSweepParameter(
    uid='DC_Current', start=-2000e-6, stop=2000e-6, count=301)

coil_sweep_param = LinearSweepParameter(
    uid='Coil_Current', start=-150e-6, stop=150e-6, count=301)

exp = Experiment(
    uid="2D Current Sweep",
    signals=[
        ExperimentSignal(uid="measure", map_to=lsg[qubit.uid]['measure_line']),
        ExperimentSignal(uid="acquire", map_to=lsg[qubit.uid]['acquire_line']),
        ExperimentSignal(uid="drive", map_to=lsg[qubit.uid]['drive_line'])
    ]
)

with exp.sweep(
    uid='coil sweep',
    parameter=coil_sweep_param,
    execution_type=ExecutionType.NEAR_TIME,
):
    exp.call('Coil_Current', new_current=coil_sweep_param, step_time=0.01)
    with exp.sweep(
        uid="dc sweep",
        parameter=dc_sweep_param,
        execution_type=ExecutionType.NEAR_TIME,
    ):
        exp.call('DC_Current', new_current=dc_sweep_param, step_time=0.01) #note that "argument" session (first argument to the function) is automatically passed
        with exp.acquire_loop_rt(
            uid="shots",
            count=averages,
            acquisition_type=AcquisitionType.INTEGRATION,
            averaging_mode=AveragingMode.SEQUENTIAL
        ):
            with exp.section(uid="Pulsed Single Frequency Readout"):
                exp.play(
                    signal="measure",
                    pulse=readout_pulse
                )
                exp.acquire(
                    signal='acquire',
                    handle='single_freq_data',
                    kernel=readout_pulse,
                    length=qubit.parameters.user_defined['readout_len'],
                )
            with exp.section(uid="delay_between_readout", length=qubit.parameters.user_defined['reset_length']):
                exp.reserve(signal="measure")





session = Session(
    device_setup=device_setup,
    log_level = logging.WARNING,
    experiment=exp)
session.connect(use_async_api=True);
session.register_neartime_callback(change_dc_current, 'DC_Current')
session.register_neartime_callback(change_coil_current, 'Coil_Current')
compiled_session = session.compile(exp);
# psv.interactive_psv(compiled_session, max_events_to_publish=1000,)





results = session.run()
my_results = session.get_results() #a deep copy of session.results
my_acquired_results = my_results.acquired_results['single_freq_data'] #extracts data from the exp.acquire method with the same key name





#plotting resonator over flux
amp_data = np.abs(my_acquired_results.data)
phase_data = np.angle(my_acquired_results.data)
db_data = np.log10(amp_data)

coil_currents = my_acquired_results.axis[0]
dc_currents = my_acquired_results.axis[1]

fig, ax = plt.subplots(1,2, figsize=(15,6))
cmap0 = ax[0].pcolor(coil_currents*1e6,
             dc_currents*1e6,
             db_data.T,
             shading='nearest')
ax[0].set_title(f'{qubit.uid} Resonator 2D Flux Response')
ax[0].set_xlabel('Coil Currents (uA)')
ax[0].set_ylabel('On-Chip DC (uA)')
cmap1 = ax[1].pcolor(coil_currents*1e6,
             dc_currents*1e6,
             phase_data.T,
             shading='nearest')
ax[1].set_title(f'{qubit.uid} Resonator 2D Flux Response')
ax[1].set_xlabel('Coil Currents (uA)')
ax[1].set_ylabel('On-Chip DC (uA)')
fig.colorbar(cmap0, ax=ax[0])
fig.colorbar(cmap1, ax=ax[1])
fig.tight_layout()


amplitude = np.abs(my_acquired_results.data)
phase = np.angle(my_acquired_results.data)
currents = my_acquired_results.axis[0]*1e6
freqs = my_acquired_results.axis[1] + qubit.parameters.readout_lo_frequency

fig, ax = plt.subplots(1,2, figsize=(15,6))
cmap0 = ax[0].pcolor(currents,
             freqs,
             amplitude.T,
             shading='nearest')
ax[0].set_title(f'{qubit.uid} Resonator Current Response')
ax[0].set_xlabel('Currents (uA)')
ax[0].set_ylabel('Readout Frequency (GHz)')
cmap1 = ax[1].pcolor(currents,
             freqs,
             phase.T,
             shading='nearest',
             vmin=-0.6,
             vmax=0.2,)
fig.colorbar(cmap0, ax=ax[0])
fig.colorbar(cmap1, ax=ax[1])
ax[1].set_title(f'{qubit.uid} Resonator Current Response')
ax[1].set_xlabel('Currents (uA)')
ax[1].set_ylabel('Readout Frequency (GHz)')
fig.tight_layout()





drive_lo_freq_sweep = LinearSweepParameter(
    uid='Drive_LO', start=1e9, stop=8e9, count=8)

drive_freq_sweep = LinearSweepParameter(
    uid='Drive_Frequency', start=-500e6, stop=498e6, count=500)

exp = Experiment(
    uid="Spectroscopy",
    signals=[
        ExperimentSignal(uid="measure", map_to=lsg[qubit.uid]['measure_line']),
        ExperimentSignal(uid="acquire", map_to=lsg[qubit.uid]['acquire_line']),
        ExperimentSignal(uid="drive", map_to=lsg[qubit.uid]['drive_line'])
    ]
)

with exp.sweep(
    uid='Sweep Drive LO',
    parameter=drive_lo_freq_sweep
):
    with exp.acquire_loop_rt(
        uid='shots',
        count=averages,
        averaging_mode=AveragingMode.CYCLIC,
        acquisition_type=AcquisitionType.INTEGRATION,
    ):
        with exp.sweep(
            uid='Drive Frequency Sweep',
            parameter=drive_freq_sweep,
        ):
            with exp.section(uid='Play drive'):
                exp.play(
                    signal="drive",
                    pulse=pulse_library.gaussian_square(
                    uid=f"drive_pulse_{qubit.uid}",
                    length=100e-9,
                    width=100e-9*0.9,
                    sigma=0.2,
                    marker = {"marker1": {"enable": True}}))
            with exp.section(
                uid="single_res_point_readout",
                play_after='Play drive',
            ):
                exp.play(
                    signal="measure",
                    pulse=readout_pulse)
                exp.acquire( #acquire on its own seems to be able to measure things, but not as well(?)
                    signal='acquire',
                    handle='single_freq_data',
                    length=qubit.parameters.user_defined['readout_len'],
                    kernel=readout_pulse #this is important to actually integrate against so the result is non-zero
                )
            with exp.section(uid="delay_between_readout", length=qubit.parameters.user_defined['reset_length']):
                exp.reserve(signal="measure")
                exp.reserve(signal="drive")

exp_calibration = Calibration()
drive_osc = Oscillator(
    "drive_osc",
    frequency=drive_freq_sweep,
    modulation_type=ModulationType.HARDWARE)
drive_lo = Oscillator(
    'drive_lo',
    frequency=drive_lo_freq_sweep,
    modulation_type=ModulationType.HARDWARE)
exp_calibration["drive"] = SignalCalibration(
    oscillator=drive_osc,
    local_oscillator=drive_lo)
exp.set_calibration(exp_calibration)





session = Session(
    device_setup=device_setup,
    log_level = logging.WARNING,
    experiment=exp)
session.connect();
compiled_session = session.compile(exp);
# psv.interactive_psv(compiled_session, max_events_to_publish=100,)





results = session.run()
my_results = session.get_results() #a deep copy of session.results
my_acquired_results = my_results.acquired_results['single_freq_data'] #extracts data from the exp.acquire method with the same key name





drive_lo_array = my_acquired_results.axis[0]
drive_AWG_freqs = my_acquired_results.axis[1]
drive_freqs = np.empty((0))
for drive_lo in drive_lo_array:
    drive_freqs = np.append(drive_freqs, drive_lo + drive_AWG_freqs,)


# For plotting current vs single resonator point
IQ_data = my_acquired_results.data.ravel()
amplitude = np.abs(IQ_data)
phase = np.angle(IQ_data)

fig, ax = plt.subplots(2,1, figsize=(8,6))
ax[0].plot(drive_freqs, amplitude)
ax[0].set_title(f'{qubit.uid} Spectrum')
ax[0].set_xlabel('Frequency (GHz)')
ax[0].set_ylabel('Amplitude')
ax[0].grid()
ax[1].plot(drive_freqs, phase)
ax[1].set_title(f'{qubit.uid} Spectrum')
ax[1].set_xlabel('Drive Frequency (GHz)')
ax[1].set_ylabel('Phase')
ax[1].grid()
fig.tight_layout()


exp.get_calibration()





device_setup.get_calibration();
exp.get_calibration();


drive_freq_sweep = LinearSweepParameter(
    uid='Drive_Frequency',
    start=qubit.parameters.drive_frequency_ge-500e6,
    stop=qubit.parameters.drive_frequency_ge+500e6,
    count=101
)

exp = Experiment(
    uid="Spectroscopy",
    signals=[
        ExperimentSignal(uid="measure", map_to=lsg[qubit.uid]['measure_line']),
        ExperimentSignal(uid="acquire", map_to=lsg[qubit.uid]['acquire_line']),
        ExperimentSignal(uid="drive", map_to=lsg[qubit.uid]['drive_line'])
    ]
)

with exp.acquire_loop_rt(
    uid='shots',
    count=averages,
    averaging_mode=AveragingMode.SEQUENTIAL,
    acquisition_type=AcquisitionType.INTEGRATION,
):
    with exp.sweep(
        uid='Drive Frequency Sweep',
        parameter=drive_freq_sweep,
    ):
        with exp.section(uid='Play drive'):
            exp.play(
                signal="drive",
                pulse=pulse_library.gaussian_square(
                    uid=f"drive_spec_pulse_{qubit.uid}",
                    length=qubit.parameters.user_defined["pulse_length"],
                    amplitude=1), #qubit.parameters.user_defined['amplitude_pi']), #max power to start
            )
        with exp.section(
            uid="single_res_point_readout",
            play_after='Play drive',
        ):
            exp.play(
                signal="measure",
                pulse=readout_pulse)
            exp.acquire( #acquire on its own seems to be able to measure things, but not as well(?)
                signal='acquire',
                handle='single_freq_data',
                length=qubit.parameters.user_defined['readout_len'],
                kernel=readout_pulse #this is important to actually integrate against so the result is non-zero
            )
        with exp.section(uid="delay_between_readout", length=qubit.parameters.user_defined['reset_length']):
            exp.reserve(signal="measure")
            exp.reserve(signal="drive")

exp_calibration = Calibration()
drive_osc = Oscillator(
    "drive_osc",
    frequency=drive_freq_sweep,
    modulation_type=ModulationType.HARDWARE)
exp_calibration["drive"] = SignalCalibration(
    oscillator=drive_osc,)
exp.set_calibration(exp_calibration)





session = Session(
    device_setup=device_setup,
    log_level = logging.WARNING,
    experiment=exp)
session.connect();
compiled_session = session.compile(exp);
# psv.interactive_psv(compiled_session, max_events_to_publish=100,)





session.signal_map.items()


results = session.run()
my_results = session.get_results() #a deep copy of session.results
my_acquired_results = my_results.acquired_results['single_freq_data'] #extracts data from the exp.acquire method with the same key name





# For plotting current vs single resonator point
freqs = my_acquired_results.axis[0] + qubit.parameters.drive_lo_frequency
IQ_data = my_acquired_results.data
amplitude = np.abs(IQ_data)
phase = np.angle(IQ_data)

fig, ax = plt.subplots(2,1, figsize=(8,6))
ax[0].plot(freqs, amplitude)
ax[0].set_title(f'{qubit.uid} Spectrum near Transition')
ax[0].set_xlabel('Drive Frequency (GHz)')
ax[0].set_ylabel('Amplitude')
ax[0].grid()
# ax[0].vlines(qubit.parameters.drive_frequency_ge+qubit.parameters.drive_lo_frequency, np.min(amplitude), np.max(amplitude), colors='r');
ax[1].plot(freqs, phase)
ax[1].set_title(f'{qubit.uid} Spectrum near Transition')
ax[1].set_xlabel('Drive Frequency (GHz)')
ax[1].set_ylabel('Phase')
ax[1].grid()
# ax[0].vlines(4.063e9, -3, 0, colors='r');
# ax[1].vlines(qubit.parameters.readout_resonator_frequency, -3, 0, colors='r')
fig.tight_layout()





drive_freq_sweep = LinearSweepParameter(
    uid='Drive_Frequency',
    start=10e6,
    stop=1e9,
    count=991
)

exp = Experiment(
    uid="Spectroscopy",
    signals=[
        ExperimentSignal(uid="measure", map_to=lsg[qubit.uid]['measure_line']),
        ExperimentSignal(uid="acquire", map_to=lsg[qubit.uid]['acquire_line']),
        ExperimentSignal(uid="drive", map_to=lsg[qubit.uid]['drive_line'])
    ]
)

with exp.acquire_loop_rt(
    uid='shots',
    count=averages,
    averaging_mode=AveragingMode.CYCLIC,
    acquisition_type=AcquisitionType.INTEGRATION,
):
    with exp.sweep(
        uid='Drive Frequency Sweep',
        parameter=drive_freq_sweep,
    ):
        with exp.section(uid='Play drive'):
            exp.play(
                signal="drive",
                pulse=pulse_library.gaussian_square(
                    uid=f"drive_spec_pulse_{qubit.uid}",
                    length=qubit.parameters.user_defined["pulse_length"],
                    amplitude=1), #qubit.parameters.user_defined['amplitude_pi']), #max power to start
            )
        with exp.section(
            uid="single_res_point_readout",
            play_after='Play drive',
        ):
            exp.play(
                signal="measure",
                pulse=readout_pulse)
            exp.acquire( #acquire on its own seems to be able to measure things, but not as well(?)
                signal='acquire',
                handle='single_freq_data',
                length=qubit.parameters.user_defined['readout_len'],
                kernel=readout_pulse #this is important to actually integrate against so the result is non-zero
            )
        with exp.section(uid="delay_between_readout", length=qubit.parameters.user_defined['reset_length']):
            exp.reserve(signal="measure")
            exp.reserve(signal="drive")

exp_calibration = Calibration()
drive_osc = Oscillator(
    "drive_osc",
    frequency=drive_freq_sweep,
    modulation_type=ModulationType.HARDWARE)
exp_calibration["drive"] = SignalCalibration(
    oscillator=drive_osc,
    port_mode=PortMode.LF)
exp.set_calibration(exp_calibration)





session = Session(
    device_setup=device_setup,
    log_level = logging.WARNING,
    experiment=exp)
session.connect();
compiled_session = session.compile(exp);
# psv.interactive_psv(compiled_session, max_events_to_publish=100,)





results = session.run()
my_results = session.get_results() #a deep copy of session.results
my_acquired_results = my_results.acquired_results['single_freq_data'] #extracts data from the exp.acquire method with the same key name





# For plotting current vs single resonator point
drive_freqs = my_acquired_results.axis[0]
IQ_data = my_acquired_results.data
amplitude = np.abs(IQ_data)
phase = np.angle(IQ_data)

fig, ax = plt.subplots(2,1, figsize=(8,6))
ax[0].plot(drive_freqs, amplitude)
ax[0].set_title(f'{qubit.uid} Spectrum')
ax[0].set_xlabel('Frequency (GHz)')
ax[0].set_ylabel('Amplitude')
ax[0].grid()
ax[1].plot(drive_freqs, phase)
ax[1].set_title(f'{qubit.uid} Spectrum')
ax[1].set_xlabel('Drive Frequency (GHz)')
ax[1].set_ylabel('Phase')
ax[1].grid()
fig.tight_layout()





time_delay = LinearSweepParameter(
    uid='time_delay', start=0, stop=200e-6, count=20)

exp = Experiment(
    uid="Spectroscopy",
    signals=[
        ExperimentSignal(uid="measure", map_to=lsg[qubit.uid]['measure_line']),
        ExperimentSignal(uid="acquire", map_to=lsg[qubit.uid]['acquire_line']),
        ExperimentSignal(uid="drive", map_to=lsg[qubit.uid]['drive_line'])
    ]
)

with exp.acquire_loop_rt(
    uid='shots',
    count=averages,
    averaging_mode=AveragingMode.CYCLIC,
    acquisition_type=AcquisitionType.INTEGRATION,
):
    with exp.sweep(
        uid='Delay_sweep',
        parameter=time_delay,
    ):
        with exp.section(uid='Play drive'):
            exp.play(
                signal="drive",
                pulse=pulse_library.gaussian_square(
                    uid=f"drive_spec_pulse_{qubit.uid}",
                    length=qubit.parameters.user_defined["pulse_length"],
                    amplitude=qubit.parameters.user_defined['amplitude_pi']), #1,) #max power to start
            )
            exp.delay('drive', time_delay)
        with exp.section(
            uid="single_res_point_readout",
            play_after='Play drive',
        ):
            exp.play(
                signal="measure",
                pulse=readout_pulse)
            exp.acquire( #acquire on its own seems to be able to measure things, but not as well(?)
                signal='acquire',
                handle='single_freq_data',
                length=qubit.parameters.user_defined['readout_len'],
                kernel=readout_pulse #this is important to actually integrate against so the result is non-zero
            )
        with exp.section(uid="delay_between_readout", length=qubit.parameters.user_defined['reset_length']):
            exp.reserve(signal="measure")
            exp.reserve(signal="drive")





session = Session(
    device_setup=device_setup,
    log_level = logging.WARNING,
    experiment=exp)
session.connect();
compiled_session = session.compile(exp);
# psv.interactive_psv(compiled_session, max_events_to_publish=100,)





results = session.run()
my_results = session.get_results() #a deep copy of session.results
my_acquired_results = my_results.acquired_results['single_freq_data'] #extracts data from the exp.acquire method with the same key name





amplitude = np.abs(my_acquired_results.data)
phase = np.angle(my_acquired_results.data)

delay_plot = np.linspace(time_delay.start, time_delay.stop, 501)
popt, pcov = exponential_decay.fit(time_delay, amplitude, 1/40e-6, 10, 7, plot=False)

fig, ax = plt.subplots(1,1, figsize=(4,4))
ax.plot(time_delay*1e6, amplitude, '.k')
ax.plot(delay_plot*1e6, exponential_decay(delay_plot, *popt), '-r');
ax.set_title(f'{qubit.uid} T1')
ax.set_xlabel('Delay (us)')
ax.set_ylabel('Amplitude')
ax.grid()

print(f"Fitted parameters: {popt}")
print('T1 time ' + str(1/popt[0]*1e6) + ' us') 





def t1_run():
    time_delay = LinearSweepParameter(
        uid='time_delay', start=0, stop=200e-6, count=40)
    
    exp = Experiment(
        uid="Spectroscopy",
        signals=[
            ExperimentSignal(uid="measure", map_to=lsg[qubit.uid]['measure_line']),
            ExperimentSignal(uid="acquire", map_to=lsg[qubit.uid]['acquire_line']),
            ExperimentSignal(uid="drive", map_to=lsg[qubit.uid]['drive_line'])
        ]
    )
    
    with exp.acquire_loop_rt(
        uid='shots',
        count=averages,
        averaging_mode=AveragingMode.CYCLIC,
        acquisition_type=AcquisitionType.INTEGRATION,
    ):
        with exp.sweep(
            uid='Delay_sweep',
            parameter=time_delay,
        ):
            with exp.section(uid='Play drive'):
                exp.play(
                    signal="drive",
                    pulse=pulse_library.gaussian_square(
                        uid=f"drive_spec_pulse_{qubit.uid}",
                        length=qubit.parameters.user_defined["pulse_length"],
                        amplitude=qubit.parameters.user_defined['amplitude_pi']), #1,) #max power to start
                )
                exp.delay('drive', time_delay)
            with exp.section(
                uid="single_res_point_readout",
                play_after='Play drive',
            ):
                exp.play(
                    signal="measure",
                    pulse=readout_pulse)
                exp.acquire( #acquire on its own seems to be able to measure things, but not as well(?)
                    signal='acquire',
                    handle='single_freq_data',
                    length=qubit.parameters.user_defined['readout_len'],
                    kernel=readout_pulse #this is important to actually integrate against so the result is non-zero
                )
            with exp.section(uid="delay_between_readout", length=qubit.parameters.user_defined['reset_length']):
                exp.reserve(signal="measure")
                exp.reserve(signal="drive")
    
    session = Session(
        device_setup=device_setup,
        log_level = logging.WARNING,
        experiment=exp)
    session.connect();
    compiled_session = session.compile(exp);
    # psv.interactive_psv(compiled_session, max_events_to_publish=100,)
    
    results = session.run()
    my_results = session.get_results() #a deep copy of session.results
    my_acquired_results = my_results.acquired_results['single_freq_data'] #extracts data from the exp.acquire method with the same key name

    
    amplitude = np.abs(my_acquired_results.data)
    popt, pcov = exponential_decay.fit(time_delay, amplitude, 1/40e-6, 10, 7, plot=False)
    return [popt[0], [popt, pcov]]


datetime_array, T1_data = measure_data_stats(t1_run, data_points=1000)


stat_out(1/T1_data*1e6, 'T1')
plot_box_whisker_time_series(datetime_array, 1/T1_data*1e6, 'T1', time_interval_str='10min')





rabi_amp_sweep = LinearSweepParameter(
    uid='rabi_amplitude', start=0, stop=1, count=101)

exp = Experiment(
    uid="Spectroscopy",
    signals=[
        ExperimentSignal(uid="measure", map_to=lsg[qubit.uid]['measure_line']),
        ExperimentSignal(uid="acquire", map_to=lsg[qubit.uid]['acquire_line']),
        ExperimentSignal(uid="drive", map_to=lsg[qubit.uid]['drive_line'])
    ]
)

with exp.acquire_loop_rt(
    uid='shots',
    count=averages,
    averaging_mode=AveragingMode.CYCLIC,
    acquisition_type=AcquisitionType.INTEGRATION,
):
    with exp.sweep(
        uid='Amplitude Sweep',
        parameter=rabi_amp_sweep,
    ):
        with exp.section(uid='Play drive'):
            exp.play(
                signal="drive",
                pulse=pulse_library.gaussian_square(
                    uid=f"drive_spec_pulse_{qubit.uid}",
                    length=qubit.parameters.user_defined["pulse_length"], #can have this be longer if not enough periods
                    amplitude=1,), #max power to start
                amplitude=rabi_amp_sweep,
            )
        with exp.section(
            uid="single_res_point_readout",
            play_after='Play drive',
        ):
            exp.play(
                signal="measure",
                pulse=readout_pulse)
            exp.acquire( #acquire on its own seems to be able to measure things, but not as well(?)
                signal='acquire',
                handle='single_freq_data',
                length=qubit.parameters.user_defined['readout_len'],
                kernel=readout_pulse #this is important to actually integrate against so the result is non-zero
            )
        with exp.section(uid="delay_between_readout", length=qubit.parameters.user_defined['reset_length']):
            exp.reserve(signal="measure")
            exp.reserve(signal="drive")





session = Session(
    device_setup=device_setup,
    log_level = logging.WARNING,
    experiment=exp)
session.connect();
compiled_session = session.compile(exp);
# psv.interactive_psv(compiled_session, max_events_to_publish=100,)





results = session.run()
my_results = session.get_results() #a deep copy of session.results
my_acquired_results = my_results.acquired_results['single_freq_data'] #extracts data from the exp.acquire method with the same key name





# plot measurement data
drive_amp = my_acquired_results.axis[0]
rabi_data = my_acquired_results.data
rabi_data_abs = np.abs(rabi_data)
rabi_data_phase = np.angle(rabi_data)

fitting_plot_x = np.linspace(rabi_amp_sweep.start, rabi_amp_sweep.stop, 501)
popt, pcov = oscillatory.fit(drive_amp, rabi_data_abs, 2, -3, 0, 8, plot=False)

fig, ax = plt.subplots(1, 1, figsize=(8,4))
ax.plot(drive_amp, rabi_data_abs)
ax.plot(fitting_plot_x, oscillatory(fitting_plot_x, *popt), '-r')
ax.set_title(f'{qubit.uid} Amplitude Sweep')
ax.set_xlabel('Rabi Pulse Amplitude')
ax.set_ylabel('Amplitude (a.u.)')
ax.vlines(0.49, ymin=np.min(rabi_data_abs), ymax=np.max(rabi_data_abs), color='orange')
ax.vlines(0.82, ymin=np.min(rabi_data_abs), ymax=np.max(rabi_data_abs), color='orange')
ax.grid()
print(f"Fitted parameters: {popt}")





time_delay = LinearSweepParameter(
    uid='time_delay', start=0, stop=60e-6, count=201)

ramsey_drive = pulse_library.gaussian_square(
    uid='ramsey_drive',
    length=qubit.parameters.user_defined['pulse_length'],
    amplitude=qubit.parameters.user_defined['amplitude_pi/2'],
)

exp = Experiment(
    uid="Spectroscopy",
    signals=[
        ExperimentSignal(uid="measure", map_to=lsg[qubit.uid]['measure_line']),
        ExperimentSignal(uid="acquire", map_to=lsg[qubit.uid]['acquire_line']),
        ExperimentSignal(uid="drive", map_to=lsg[qubit.uid]['drive_line'])
    ]
)

with exp.acquire_loop_rt(
    uid='shots',
    count=averages,
    averaging_mode=AveragingMode.CYCLIC,
    acquisition_type=AcquisitionType.INTEGRATION,
):
    with exp.sweep(
        uid='Delay_sweep',
        parameter=time_delay,
    ):
        with exp.section(uid='Play drive'):
            exp.play(signal="drive", pulse=ramsey_drive)
            exp.delay('drive', time_delay)
            exp.play(signal="drive", pulse=ramsey_drive)
        with exp.section(
            uid="single_res_point_readout",
            play_after='Play drive',
        ):
            exp.play(
                signal="measure",
                pulse=readout_pulse)
            exp.acquire( #acquire on its own seems to be able to measure things, but not as well(?)
                signal='acquire',
                handle='single_freq_data',
                length=qubit.parameters.user_defined['readout_len'],
                kernel=readout_pulse #this is important to actually integrate against so the result is non-zero
            )
        with exp.section(uid="delay_between_readout", length=qubit.parameters.user_defined['reset_length']):
            exp.reserve(signal="measure")
            exp.reserve(signal="drive")

exp_calibration = Calibration()
drive_osc = Oscillator(
    "drive_osc",
    frequency=qubit.parameters.drive_frequency_ge+0.5e6, #offset here of about 1MHz to 3MHz to get precise frequency
    modulation_type=ModulationType.HARDWARE)
exp_calibration["drive"] = SignalCalibration(
    oscillator=drive_osc,)
exp.set_calibration(exp_calibration)





session = Session(
    device_setup=device_setup,
    log_level = logging.WARNING,
    experiment=exp)
session.connect();
compiled_session = session.compile(exp);
# psv.interactive_psv(compiled_session, max_events_to_publish=100,)





results = session.run()
my_results = session.get_results() #a deep copy of session.results
my_acquired_results = my_results.acquired_results['single_freq_data'] #extracts data from the exp.acquire method with the same key name





ramsey_data = my_acquired_results.data
ramsey_data_abs = np.abs(ramsey_data)
ramsey_data_phase = np.angle(ramsey_data)

fitting_plot_x = np.linspace(time_delay.start, time_delay.stop, 501)
popt, pcov = oscillatory_decay.fit(time_delay, ramsey_data_abs, 2.93024450e+06, 3.45453279e+00, 1.84843708e+04, 2.93235930e+00, 5.01709506e+00, plot=False)

fig, ax = plt.subplots(1, 1, figsize=(8,4))
ax.plot(time_delay*1e6, ramsey_data_abs, '.k')
ax.plot(fitting_plot_x*1e6, oscillatory_decay(fitting_plot_x, *popt), '-r')
ax.set_title(f'{qubit.uid} Ramsey Oscillations')
ax.set_xlabel('Delayed Time (us)')
ax.set_ylabel('Amplitude (a.u.)')
ax.grid()

print(f'Fitted parameters: {popt}')
#NOTE: you need to divide the detuning by 2pi when adjusting for later measurements
print(f'detuning = {popt[0]*1e-6} MHz, T2r = {1e6/popt[2]} us')





def ramsey_run():
    time_delay = LinearSweepParameter(
        uid='time_delay', start=0, stop=60e-6, count=201)
    
    ramsey_drive = pulse_library.gaussian_square(
        uid='ramsey_drive',
        length=qubit.parameters.user_defined['pulse_length'],
        amplitude=qubit.parameters.user_defined['amplitude_pi/2'],
    )
    
    exp = Experiment(
        uid="Spectroscopy",
        signals=[
            ExperimentSignal(uid="measure", map_to=lsg[qubit.uid]['measure_line']),
            ExperimentSignal(uid="acquire", map_to=lsg[qubit.uid]['acquire_line']),
            ExperimentSignal(uid="drive", map_to=lsg[qubit.uid]['drive_line'])
        ]
    )
    
    with exp.acquire_loop_rt(
        uid='shots',
        count=averages,
        averaging_mode=AveragingMode.CYCLIC,
        acquisition_type=AcquisitionType.INTEGRATION,
    ):
        with exp.sweep(
            uid='Delay_sweep',
            parameter=time_delay,
        ):
            with exp.section(uid='Play drive'):
                exp.play(signal="drive", pulse=ramsey_drive)
                exp.delay('drive', time_delay)
                exp.play(signal="drive", pulse=ramsey_drive)
            with exp.section(
                uid="single_res_point_readout",
                play_after='Play drive',
            ):
                exp.play(
                    signal="measure",
                    pulse=readout_pulse)
                exp.acquire( #acquire on its own seems to be able to measure things, but not as well(?)
                    signal='acquire',
                    handle='single_freq_data',
                    length=qubit.parameters.user_defined['readout_len'],
                    kernel=readout_pulse #this is important to actually integrate against so the result is non-zero
                )
            with exp.section(uid="delay_between_readout", length=qubit.parameters.user_defined['reset_length']):
                exp.reserve(signal="measure")
                exp.reserve(signal="drive")
    
    exp_calibration = Calibration()
    drive_osc = Oscillator(
        "drive_osc",
        frequency=qubit.parameters.drive_frequency_ge+0.5e6, #offset here of about 1MHz to 3MHz to get precise frequency
        modulation_type=ModulationType.HARDWARE)
    exp_calibration["drive"] = SignalCalibration(
        oscillator=drive_osc,)
    exp.set_calibration(exp_calibration)
    
    session = Session(
        device_setup=device_setup,
        log_level = logging.WARNING,
        experiment=exp)
    session.connect();
    compiled_session = session.compile(exp);
    
    results = session.run()
    my_results = session.get_results() #a deep copy of session.results
    my_acquired_results = my_results.acquired_results['single_freq_data'] #extracts data from the exp.acquire method with the same key name
    
    ramsey_data = my_acquired_results.data
    ramsey_data_abs = np.abs(ramsey_data)
    ramsey_data_phase = np.angle(ramsey_data)
    
    popt, pcov = oscillatory_decay.fit(time_delay, ramsey_data_abs, 2.92476145e+06, 3.46276214e+00, 3.31102359e+04, 2.98063950e+00, 5.21143581e+00, plot=False)
    
    print(f'Fitted parameters: {popt}')
    #NOTE: you need to divide the detuning by 2pi when adjusting for later measurements
    print(f'detuning = {popt[0]*1e-6} MHz, T2r = {1e6/popt[2]} us')
    return [popt[2], [popt, pcov]] 


datetime_array, T2star_data = measure_data_stats(ramsey_run, data_points=100)


stat_out(1/T2star_data*1e6, 'T2*')
plot_box_whisker_time_series(datetime_array, 1/T2star_data*1e6, 'T2*', time_interval_str='3min')





time_delay = LinearSweepParameter(
    uid='time_delay', start=0, stop=40e-6, count=51)

x90 = pulse_library.gaussian_square(
    uid='x90',
    length=qubit.parameters.user_defined['pulse_length'],
    amplitude=qubit.parameters.user_defined['amplitude_pi/2']
)

x180 = pulse_library.gaussian_square(
    uid='x180',
    length=qubit.parameters.user_defined['pulse_length'],
    amplitude=qubit.parameters.user_defined['amplitude_pi']
)

exp = Experiment(
    uid="Spectroscopy",
    signals=[
        ExperimentSignal(uid="measure", map_to=lsg[qubit.uid]['measure_line']),
        ExperimentSignal(uid="acquire", map_to=lsg[qubit.uid]['acquire_line']),
        ExperimentSignal(uid="drive", map_to=lsg[qubit.uid]['drive_line'])
    ]
)

with exp.acquire_loop_rt(
    uid='shots',
    count=averages,
    averaging_mode=AveragingMode.CYCLIC,
    acquisition_type=AcquisitionType.INTEGRATION,
    reset_oscillator_phase=True
):
    with exp.sweep(
        uid='Delay_sweep',
        parameter=time_delay,
        alignment=SectionAlignment.RIGHT,
        reset_oscillator_phase=True
    ):
        with exp.section(uid='Play drive', alignment=SectionAlignment.RIGHT):
            exp.play(signal="drive", phase=0, pulse=x90)
            exp.delay('drive', time_delay/2)
            exp.play(signal="drive", phase=0, pulse=x180)
            exp.delay('drive', time_delay/2)
            exp.play(signal='drive', phase=0, pulse=x90)
        with exp.section(
            uid="single_res_point_readout",
            play_after='Play drive',
        ):
            exp.play(
                signal="measure",
                pulse=readout_pulse)
            exp.acquire( #acquire on its own seems to be able to measure things, but not as well(?)
                signal='acquire',
                handle='single_freq_data',
                length=qubit.parameters.user_defined['readout_len'],
                kernel=readout_pulse #this is important to actually integrate against so the result is non-zero
            )
        with exp.section(uid="delay_between_readout", length=qubit.parameters.user_defined['reset_length']):
            exp.reserve(signal="measure")
            exp.reserve(signal="drive")

exp_calibration = Calibration()
drive_osc = Oscillator(
    "drive_osc",
    frequency=qubit.parameters.drive_frequency_ge+1e6-0.965e6,
    modulation_type=ModulationType.HARDWARE)
exp_calibration["drive"] = SignalCalibration(
    oscillator=drive_osc,)
exp.set_calibration(exp_calibration)





session = Session(
    device_setup=device_setup,
    log_level = logging.WARNING,
    experiment=exp)
session.connect();
compiled_session = session.compile(exp);
# psv.interactive_psv(compiled_session, max_events_to_publish=100,)





results = session.run()
my_results = session.get_results() #a deep copy of session.results
my_acquired_results = my_results.acquired_results['single_freq_data'] #extracts data from the exp.acquire method with the same key name





echo_data = my_acquired_results.data
echo_data_abs = np.abs(echo_data)
echo_data_phase = np.angle(echo_data)

popt, pcov = exponential_decay.fit(time_delay, echo_data_abs, (1/10e-6), -20, -20, plot=False)
fit_plotting_x = np.linspace(time_delay.start, time_delay.stop, 501)

fig, ax = plt.subplots(1, 1, figsize=(4,4))
ax.plot(time_delay*1e6, echo_data_abs, '.k')
ax.plot(fit_plotting_x*1e6, exponential_decay(fit_plotting_x, *popt), '-r')
ax.set_title(f'{qubit.uid} T2e')
ax.set_xlabel('Time Delay (us)')
ax.set_ylabel('Amplitude (a.u.)')
ax.grid()

print(f"Fitted parameters: {popt}")
print('T2e time ' + str(1/popt[0]*1e6) + ' us') 





def T2E_run():
    time_delay = LinearSweepParameter(
        uid='time_delay', start=0, stop=50e-6, count=51)
    
    x90 = pulse_library.gaussian_square(
        uid='x90',
        length=qubit.parameters.user_defined['pulse_length'],
        amplitude=qubit.parameters.user_defined['amplitude_pi/2']
    )
    
    x180 = pulse_library.gaussian_square(
        uid='x180',
        length=qubit.parameters.user_defined['pulse_length'],
        amplitude=qubit.parameters.user_defined['amplitude_pi']
    )
    
    exp = Experiment(
        uid="Spectroscopy",
        signals=[
            ExperimentSignal(uid="measure", map_to=lsg[qubit.uid]['measure_line']),
            ExperimentSignal(uid="acquire", map_to=lsg[qubit.uid]['acquire_line']),
            ExperimentSignal(uid="drive", map_to=lsg[qubit.uid]['drive_line'])
        ]
    )
    
    with exp.acquire_loop_rt(
        uid='shots',
        count=averages,
        averaging_mode=AveragingMode.CYCLIC,
        acquisition_type=AcquisitionType.INTEGRATION,
        reset_oscillator_phase=True
    ):
        with exp.sweep(
            uid='Delay_sweep',
            parameter=time_delay,
            alignment=SectionAlignment.RIGHT,
            reset_oscillator_phase=True
        ):
            with exp.section(uid='Play drive', alignment=SectionAlignment.RIGHT):
                exp.play(signal="drive", phase=0, pulse=x90)
                exp.delay('drive', time_delay/2)
                exp.play(signal="drive", phase=0, pulse=x180)
                exp.delay('drive', time_delay/2)
                exp.play(signal='drive', phase=0, pulse=x90)
            with exp.section(
                uid="single_res_point_readout",
                play_after='Play drive',
            ):
                exp.play(
                    signal="measure",
                    pulse=readout_pulse)
                exp.acquire( #acquire on its own seems to be able to measure things, but not as well(?)
                    signal='acquire',
                    handle='single_freq_data',
                    length=qubit.parameters.user_defined['readout_len'],
                    kernel=readout_pulse #this is important to actually integrate against so the result is non-zero
                )
            with exp.section(uid="delay_between_readout", length=qubit.parameters.user_defined['reset_length']):
                exp.reserve(signal="measure")
                exp.reserve(signal="drive")
    
    exp_calibration = Calibration()
    drive_osc = Oscillator(
        "drive_osc",
        frequency=qubit.parameters.drive_frequency_ge+1e6-0.965e6, #THIS MAY NEED TO BE SUBTLEY ADJUSTED BASED ON RAMSEY
        modulation_type=ModulationType.HARDWARE)
    exp_calibration["drive"] = SignalCalibration(
        oscillator=drive_osc,)
    exp.set_calibration(exp_calibration)

    session = Session(
        device_setup=device_setup,
        log_level = logging.WARNING,
        experiment=exp)
    session.connect();
    compiled_session = session.compile(exp);
    
    results = session.run()
    my_results = session.get_results() #a deep copy of session.results
    my_acquired_results = my_results.acquired_results['single_freq_data'] #extracts data from the exp.acquire method with the same key name
    
    echo_data = my_acquired_results.data
    echo_data_abs = np.abs(echo_data)
    echo_data_phase = np.angle(echo_data)
    
    popt, pcov = exponential_decay.fit(time_delay, echo_data_abs, 3.94114308e+04, 1.15779379e+00, 1.14347287e+01, plot=False)
    
    print(f"Fitted parameters: {popt}")
    print('T2e time ' + str(1/popt[0]*1e6) + ' us') 
    return [popt[0], [popt, pcov]]


datetime_array, T2E_data = measure_data_stats(T2E_run, data_points=50)


stat_out(1/T2E_data*1e6)
plot_box_whisker_time_series(datetime_array, 1/T2E_data*1e6, 'T1', time_interval_str='2min')





drive_lo_freq_sweep = LinearSweepParameter(
    uid='Drive_LO', start=1e9, stop=8e9, count=8)

drive_freq_sweep = LinearSweepParameter(
    uid='Drive_Frequency', start=-500e6, stop=498e6, count=500)

exp = Experiment(
    uid="Spectroscopy",
    signals=[
        ExperimentSignal(uid="measure", map_to=lsg[qubit.uid]['measure_line']),
        ExperimentSignal(uid="acquire", map_to=lsg[qubit.uid]['acquire_line']),
        ExperimentSignal(uid="drive", map_to=lsg[qubit.uid]['drive_line'])
    ]
)

with exp.sweep(
    uid='Sweep Drive LO',
    parameter=drive_lo_freq_sweep
):
    with exp.acquire_loop_rt(
        uid='shots',
        count=averages,
        averaging_mode=AveragingMode.CYCLIC,
        acquisition_type=AcquisitionType.INTEGRATION,
    ):
        with exp.sweep(
            uid='Drive Frequency Sweep',
            parameter=drive_freq_sweep,
        ):
            with exp.section(uid='Play drive'):
                exp.play(
                    signal="drive",
                    pulse=pulse_library.gaussian_square(
                    uid=f"drive_pulse_{qubit.uid}",
                    length=100e-9,
                    width=100e-9*0.9,
                    sigma=0.2,
                    marker = {"marker1": {"enable": True}}))
            with exp.section(
                uid="single_res_point_readout",
                play_after='Play drive',
            ):
                exp.play(
                    signal="measure",
                    pulse=readout_pulse)
                exp.acquire( #acquire on its own seems to be able to measure things, but not as well(?)
                    signal='acquire',
                    handle='single_freq_data',
                    length=qubit.parameters.user_defined['readout_len'],
                    kernel=readout_pulse #this is important to actually integrate against so the result is non-zero
                )
            with exp.section(uid="delay_between_readout", length=qubit.parameters.user_defined['reset_length']):
                exp.reserve(signal="measure")
                exp.reserve(signal="drive")

exp_calibration = Calibration()
drive_osc = Oscillator(
    "drive_osc",
    frequency=drive_freq_sweep,
    modulation_type=ModulationType.HARDWARE)
drive_lo = Oscillator(
    'drive_lo',
    frequency=drive_lo_freq_sweep,
    modulation_type=ModulationType.HARDWARE)
exp_calibration["drive"] = SignalCalibration(
    oscillator=drive_osc,
    local_oscillator=drive_lo)
exp.set_calibration(exp_calibration)


## Compile Session
Do final checks before running the job.


session = Session(
    device_setup=device_setup,
    log_level = logging.WARNING,
    experiment=exp)
session.connect();
compiled_session = session.compile(exp);
# psv.interactive_psv(compiled_session, max_events_to_publish=100,)





results = session.run()
my_results = session.get_results() #a deep copy of session.results
my_acquired_results = my_results.acquired_results['single_freq_data'] #extracts data from the exp.acquire method with the same key name





drive_lo_array = my_acquired_results.axis[0]
drive_AWG_freqs = my_acquired_results.axis[1]
drive_freqs = np.empty((0))
for drive_lo in drive_lo_array:
    drive_freqs = np.append(drive_freqs, drive_lo + drive_AWG_freqs,)


# For plotting current vs single resonator point
IQ_data = my_acquired_results.data.ravel()
amplitude = np.abs(IQ_data)
phase = np.angle(IQ_data)

fig, ax = plt.subplots(2,1, figsize=(8,6))
ax[0].plot(drive_freqs, amplitude)
ax[0].set_title(f'{qubit.uid} Spectrum')
ax[0].set_xlabel('Frequency (GHz)')
ax[0].set_ylabel('Amplitude')
ax[0].grid()
ax[1].plot(drive_freqs, phase)
ax[1].set_title(f'{qubit.uid} Spectrum')
ax[1].set_xlabel('Drive Frequency (GHz)')
ax[1].set_ylabel('Phase')
ax[1].grid()
fig.tight_layout()



